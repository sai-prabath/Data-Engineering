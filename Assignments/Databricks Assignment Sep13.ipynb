{
 "cells": [
  {
   "cell_type": "markdown",
   "metadata": {
    "application/vnd.databricks.v1+cell": {
     "cellMetadata": {},
     "inputWidgets": {},
     "nuid": "9807b83c-753c-401a-aca3-9fa3d211c728",
     "showTitle": false,
     "title": ""
    }
   },
   "source": [
    "1. Creating a Databricks Notebook\n",
    "Create a new Databricks notebook.\n",
    "Use Python code to demonstrate basic operations (such as reading data and\n",
    "performing calculations)."
   ]
  },
  {
   "cell_type": "code",
   "execution_count": 0,
   "metadata": {
    "application/vnd.databricks.v1+cell": {
     "cellMetadata": {
      "byteLimit": 2048000,
      "rowLimit": 10000
     },
     "inputWidgets": {},
     "nuid": "8054cb1a-1de4-4873-91d2-c9ac44a2823b",
     "showTitle": false,
     "title": ""
    }
   },
   "outputs": [
    {
     "name": "stdout",
     "output_type": "stream",
     "text": [
      "+-------+---+\n",
      "|   Name|Age|\n",
      "+-------+---+\n",
      "|  Alice| 25|\n",
      "|    Bob| 30|\n",
      "|Charlie| 35|\n",
      "+-------+---+\n",
      "\n",
      "Average age: 30.00\n",
      "        Age\n",
      "count   3.0\n",
      "mean   30.0\n",
      "std     5.0\n",
      "min    25.0\n",
      "25%    27.5\n",
      "50%    30.0\n",
      "75%    32.5\n",
      "max    35.0\n"
     ]
    }
   ],
   "source": [
    "# Import necessary libraries\n",
    "import pandas as pd\n",
    "from pyspark.sql import SparkSession\n",
    "\n",
    "# Create a SparkSession\n",
    "spark = SparkSession.builder.appName(\"DatabricksIntro\").getOrCreate()\n",
    "\n",
    "# Create a sample dataset\n",
    "data = [(\"Alice\", 25), (\"Bob\", 30), (\"Charlie\", 35)]\n",
    "df = spark.createDataFrame(data, [\"Name\", \"Age\"])\n",
    "\n",
    "# Show the data\n",
    "df.show()\n",
    "\n",
    "# Perform a basic calculation\n",
    "avg_age = df.agg({\"Age\": \"avg\"}).collect()[0][0]\n",
    "print(f\"Average age: {avg_age:.2f}\")\n",
    "\n",
    "# Convert to Pandas DataFrame for further analysis\n",
    "pandas_df = df.toPandas()\n",
    "print(pandas_df.describe())"
   ]
  },
  {
   "cell_type": "markdown",
   "metadata": {
    "application/vnd.databricks.v1+cell": {
     "cellMetadata": {},
     "inputWidgets": {},
     "nuid": "65461a01-e2c6-4838-9ae2-9d64b87ec839",
     "showTitle": false,
     "title": ""
    }
   },
   "source": [
    "2. Setting Up Azure Databricks Workspace and Configuring Clusters\n",
    "Task: Configuring Clusters\n",
    "Set up an Azure Databricks cluster.\n",
    "Configure the cluster with appropriate node sizes and autoscaling.\n",
    "Attach your notebook to the cluster and run basic Python code to verify\n",
    "configuration."
   ]
  },
  {
   "cell_type": "code",
   "execution_count": 0,
   "metadata": {
    "application/vnd.databricks.v1+cell": {
     "cellMetadata": {
      "byteLimit": 2048000,
      "rowLimit": 10000
     },
     "inputWidgets": {},
     "nuid": "d743a4d3-7720-4a45-93a3-30154f24b30e",
     "showTitle": false,
     "title": ""
    }
   },
   "outputs": [
    {
     "name": "stdout",
     "output_type": "stream",
     "text": [
      "Number of rows: 1000000\n"
     ]
    }
   ],
   "source": [
    "# Run a simple operation to test the cluster\n",
    "df = spark.range(1000000)\n",
    "count = df.count()\n",
    "print(f\"Number of rows: {count}\")"
   ]
  },
  {
   "cell_type": "markdown",
   "metadata": {
    "application/vnd.databricks.v1+cell": {
     "cellMetadata": {},
     "inputWidgets": {},
     "nuid": "391c08f5-30be-4e5e-b953-0b091db679b6",
     "showTitle": false,
     "title": ""
    }
   },
   "source": [
    "3. Real-Time Data Processing with Databricks\n",
    "Task: Implementing Databricks for Real-Time Data Processing\n",
    "Create a notebook to process real-time data using streaming APIs.\n",
    "Use a dataset with 1 million records, including fields such as event_time ,\n",
    "event_type , user_id , and amount , to simulate a streaming data scenario.\n",
    "Perform real-time data aggregation (e.g., summing up the amount per minute or\n",
    "event type).\n"
   ]
  },
  {
   "cell_type": "code",
   "execution_count": 0,
   "metadata": {
    "application/vnd.databricks.v1+cell": {
     "cellMetadata": {
      "byteLimit": 2048000,
      "rowLimit": 10000
     },
     "inputWidgets": {},
     "nuid": "939d74fa-facd-410e-be27-8e4e788a4216",
     "showTitle": false,
     "title": ""
    }
   },
   "outputs": [
    {
     "data": {
      "text/plain": [
       "True"
      ]
     },
     "execution_count": 48,
     "metadata": {},
     "output_type": "execute_result"
    }
   ],
   "source": [
    "dbutils.fs.cp(\"file:/Workspace/Shared/million_records.csv\",\"dbfs:/FileStore/streaming_data.csv\")\n",
    "dbutils.fs.cp(\"file:/Workspace/Shared/sales_data2.csv\",\"dbfs:/FileStore/sales_data.csv\")\n",
    "dbutils.fs.cp(\"file:/Workspace/Shared/transaction_data.csv\",\"dbfs:/FileStore/exe_transaction_data.csv\")"
   ]
  },
  {
   "cell_type": "code",
   "execution_count": 0,
   "metadata": {
    "application/vnd.databricks.v1+cell": {
     "cellMetadata": {
      "byteLimit": 2048000,
      "rowLimit": 10000
     },
     "inputWidgets": {},
     "nuid": "962837bf-a6f4-4e8a-a6ae-aa258767d17d",
     "showTitle": false,
     "title": ""
    }
   },
   "outputs": [
    {
     "data": {
      "text/plain": [
       "False"
      ]
     },
     "execution_count": 37,
     "metadata": {},
     "output_type": "execute_result"
    }
   ],
   "source": [
    "# Use spark.readStream to simulate real-time data processing.\n",
    "schema=\"event_time TIMESTAMP, event_type STRING, user_id STRING, amount DOUBLE\"\n",
    "streamind_data=spark.readStream.format(\"csv\").schema(schema).option(\"header\",\"true\").load(\"dbfs:/FileStore/\")\n",
    "# Real-time aggregation\n",
    "aggregated_data=(streamind_data.groupBy(\"event_type\").agg({\"amount\":\"sum\"}).withColumnRenamed(\"sum(amount)\",\"total_amount\"))\n",
    "query = (aggregated_data.writeStream\n",
    "         .outputMode(\"complete\")\n",
    "         .format(\"console\")\n",
    "         .start())\n",
    "# Wait for the streams to finish\n",
    "query.awaitTermination(60)  # Wait for 60 seconds"
   ]
  },
  {
   "cell_type": "markdown",
   "metadata": {
    "application/vnd.databricks.v1+cell": {
     "cellMetadata": {},
     "inputWidgets": {},
     "nuid": "e80433b4-8b05-4a3f-a254-ae1e3ad74716",
     "showTitle": false,
     "title": ""
    }
   },
   "source": [
    "4. Data Exploration and Visualization in Databricks\n",
    "Task: Visualizing Data in Databricks\n",
    "Use a large dataset of at least 10,000 rows, such as sales or transaction data,\n",
    "for exploratory data analysis (EDA).\n",
    "Create multiple visualizations, including bar charts and scatter plots, to\n",
    "explore relationships between variables."
   ]
  },
  {
   "cell_type": "code",
   "execution_count": 0,
   "metadata": {
    "application/vnd.databricks.v1+cell": {
     "cellMetadata": {
      "byteLimit": 2048000,
      "rowLimit": 10000
     },
     "inputWidgets": {},
     "nuid": "5abee9de-8d19-4977-84ef-3da1360b0d63",
     "showTitle": false,
     "title": ""
    }
   },
   "outputs": [
    {
     "name": "stdout",
     "output_type": "stream",
     "text": [
      "+----------+------+--------+--------+-----+------+\n",
      "|      Date|Region| Product|quantity|Price|amount|\n",
      "+----------+------+--------+--------+-----+------+\n",
      "|2024-09-01| North|Widget A|      10| 25.5|  25.5|\n",
      "|2024-09-01| South|Widget B|       5|15.75| 15.75|\n",
      "|2024-09-02| North|Widget A|      12| 25.5|  25.5|\n",
      "|2024-09-02|  East|Widget C|       8| 22.5|  22.5|\n",
      "|2024-09-03|  West|Widget A|      15| 25.5|  25.5|\n",
      "+----------+------+--------+--------+-----+------+\n",
      "only showing top 5 rows\n",
      "\n"
     ]
    }
   ],
   "source": [
    "from pyspark.sql.functions import col\n",
    "df = spark.read.csv(\"dbfs:/FileStore/sales_data.csv\", header=True, inferSchema=True)\n",
    "df = df.withColumn(\"amount\", df[\"Price\"].cast(\"double\")) \\\n",
    ".withColumn(\"quantity\", df[\"Quantity\"].cast(\"int\"))\n",
    "\n",
    "# Show the first few records\n",
    "df.show(5)"
   ]
  },
  {
   "cell_type": "code",
   "execution_count": 0,
   "metadata": {
    "application/vnd.databricks.v1+cell": {
     "cellMetadata": {
      "byteLimit": 2048000,
      "rowLimit": 10000
     },
     "inputWidgets": {},
     "nuid": "73ec15f7-ce93-4e50-952d-039344ae8b13",
     "showTitle": false,
     "title": ""
    }
   },
   "outputs": [
    {
     "data": {
      "image/png": "[encoded data removed]",
      "text/plain": [
       "<Figure size 640x480 with 1 Axes>"
      ]
     },
     "metadata": {},
     "output_type": "display_data"
    }
   ],
   "source": [
    "import matplotlib.pyplot as plt\n",
    "\n",
    "# Convert the total sales per product to Pandas\n",
    "df_pandas_category = df.groupBy(\"Product\").agg({\"amount\": \"sum\"}).toPandas()\n",
    "\n",
    "# Plot using Matplotlib\n",
    "df_pandas_category.plot(kind='bar', x='Product', y='sum(amount)', legend=False)\n",
    "\n",
    "# Customize the plot\n",
    "plt.title(\"Total Sales by Product\")\n",
    "plt.xlabel(\"Product\")\n",
    "plt.ylabel(\"Total Sales (Price)\")\n",
    "plt.xticks(rotation=45, ha='right')\n",
    "plt.show()"
   ]
  },
  {
   "cell_type": "code",
   "execution_count": 0,
   "metadata": {
    "application/vnd.databricks.v1+cell": {
     "cellMetadata": {
      "byteLimit": 2048000,
      "rowLimit": 10000
     },
     "inputWidgets": {},
     "nuid": "55e66d9c-4db8-4259-9c79-49289abf7011",
     "showTitle": false,
     "title": ""
    }
   },
   "outputs": [
    {
     "data": {
      "image/png": "[encoded data removed]",
      "text/plain": [
       "<Figure size 640x480 with 1 Axes>"
      ]
     },
     "metadata": {},
     "output_type": "display_data"
    }
   ],
   "source": [
    "# Convert the necessary columns to Pandas\n",
    "df_pandas_scatter = df.select(\"Quantity\", \"Price\").toPandas()\n",
    "\n",
    "# Plot using Matplotlib\n",
    "plt.scatter(df_pandas_scatter['Quantity'], df_pandas_scatter['Price'], alpha=0.5)\n",
    "\n",
    "# Customize the plot\n",
    "plt.title(\"Quantity vs Price\")\n",
    "plt.xlabel(\"Price\")\n",
    "plt.ylabel(\"Quantity\")\n",
    "plt.grid(True)\n",
    "plt.show()"
   ]
  },
  {
   "cell_type": "code",
   "execution_count": 0,
   "metadata": {
    "application/vnd.databricks.v1+cell": {
     "cellMetadata": {
      "byteLimit": 2048000,
      "rowLimit": 10000
     },
     "inputWidgets": {},
     "nuid": "b61cfa69-3132-4c07-aaca-708c9a4988bb",
     "showTitle": false,
     "title": ""
    }
   },
   "outputs": [
    {
     "data": {
      "image/png": "[encoded data removed]",
      "text/plain": [
       "<Figure size 640x480 with 1 Axes>"
      ]
     },
     "metadata": {},
     "output_type": "display_data"
    }
   ],
   "source": [
    "# Group by product, sum the quantity and price, and convert to Pandas\n",
    "df_pandas_quantity_vs_sales = df.groupBy(\"Product\") \\\n",
    "    .agg({\"Quantity\": \"sum\", \"Price\": \"sum\"}).toPandas()\n",
    "\n",
    "# Plot using Matplotlib\n",
    "plt.scatter(df_pandas_quantity_vs_sales['sum(Quantity)'], df_pandas_quantity_vs_sales['sum(Price)'])\n",
    "\n",
    "# Customize the plot\n",
    "plt.title(\"Total category vs Total Sales by Product\")\n",
    "plt.xlabel(\"Total Category\")\n",
    "plt.ylabel(\"Total Sales (amount)\")\n",
    "plt.grid(True)\n",
    "plt.show()"
   ]
  },
  {
   "cell_type": "markdown",
   "metadata": {
    "application/vnd.databricks.v1+cell": {
     "cellMetadata": {},
     "inputWidgets": {},
     "nuid": "0b7f6e8b-5b49-4609-a52e-5a240f349d03",
     "showTitle": false,
     "title": ""
    }
   },
   "source": [
    "5. Reading and Writing Data in Databricks\n",
    "Task: Reading and Writing Data in Various Formats\n",
    "Read data from different formats: CSV, JSON, Parquet, and Delta.\n",
    "Use a large dataset with at least 100,000 rows containing customer and\n",
    "transaction data.\n",
    "Write the data to Delta format and other formats like Parquet and JSON."
   ]
  },
  {
   "cell_type": "code",
   "execution_count": 0,
   "metadata": {
    "application/vnd.databricks.v1+cell": {
     "cellMetadata": {
      "byteLimit": 2048000,
      "rowLimit": 10000
     },
     "inputWidgets": {},
     "nuid": "81a44c2d-7d26-488a-840b-b27d509510bf",
     "showTitle": false,
     "title": ""
    }
   },
   "outputs": [
    {
     "name": "stdout",
     "output_type": "stream",
     "text": [
      "Writing to the delta table completed\n",
      "Writing to the parquet file completed\n",
      "Writing to the json file completed\n"
     ]
    }
   ],
   "source": [
    "df_csv = spark.read.csv(\"dbfs:/FileStore/sales_data.csv\", header=True, inferSchema=True)\n",
    "\n",
    "# Writing to Delta format\n",
    "df_csv.write.format(\"delta\").mode(\"overwrite\").save(\"dbfs:/FileStore/delta_table\")\n",
    "print(\"Writing to the delta table completed\")\n",
    "\n",
    "# Writing to Parquet\n",
    "df_csv.write.mode(\"overwrite\").parquet(\"dbfs:/FileStore/parquet_table\")\n",
    "print(\"Writing to the parquet file completed\")\n",
    "\n",
    "# Writing to JSON\n",
    "df_csv.write.mode(\"overwrite\").json(\"dbfs:/FileStore/json_table\")\n",
    "print(\"Writing to the json file completed\")"
   ]
  },
  {
   "cell_type": "markdown",
   "metadata": {
    "application/vnd.databricks.v1+cell": {
     "cellMetadata": {},
     "inputWidgets": {},
     "nuid": "6aed8640-7fe2-4b7a-85f8-00d4bccfc17e",
     "showTitle": false,
     "title": ""
    }
   },
   "source": [
    "6. Analyzing and Visualizing Streaming Data with Databricks\n",
    "Task: Analyzing Streaming Data\n",
    "Use a dataset with at least 500,000 records for streaming data analysis.\n",
    "Visualize real-time data changes over time using Databricks' built-in\n",
    "visualization tools."
   ]
  },
  {
   "cell_type": "code",
   "execution_count": 0,
   "metadata": {
    "application/vnd.databricks.v1+cell": {
     "cellMetadata": {
      "byteLimit": 2048000,
      "rowLimit": 10000
     },
     "inputWidgets": {},
     "nuid": "81562b63-f0d1-4329-86cd-e6a56dc285a2",
     "showTitle": false,
     "title": ""
    }
   },
   "outputs": [
    {
     "data": {
      "text/plain": [
       "<pyspark.sql.streaming.query.StreamingQuery at 0x7fefc4108890>"
      ]
     },
     "execution_count": 38,
     "metadata": {},
     "output_type": "execute_result"
    }
   ],
   "source": [
    "# Use Spark streaming to analyze and visualize streaming data in real time\n",
    "streaming_data = (spark.readStream.format(\"csv\").option(\"header\", \"true\").schema(schema).load(\"dbfs:/FileStore/\"))\n",
    "\n",
    "streaming_data_with_watermark = streaming_data.withWatermark(\"event_time\", \"10 minutes\")\n",
    "\n",
    "# Real-time visualization of total amount over time\n",
    "streaming_data_with_watermark.groupBy(\"event_time\").sum(\"amount\").writeStream.outputMode(\"append\").format(\"console\").start()"
   ]
  },
  {
   "cell_type": "markdown",
   "metadata": {
    "application/vnd.databricks.v1+cell": {
     "cellMetadata": {},
     "inputWidgets": {},
     "nuid": "82972121-ca51-4381-b22e-3a56148b0064",
     "showTitle": false,
     "title": ""
    }
   },
   "source": [
    "7. Introduction to Databricks Delta Lake\n",
    "Task: Using Delta Lake for Data Versioning\n",
    "\n",
    "Create a Delta table from a dataset of at least 500,000 rows.\n",
    "Update the table over time and demonstrate the ability to time travel between\n",
    "versions of the table.\n",
    "Optimize the Delta table and perform operations like compaction and vacuuming."
   ]
  },
  {
   "cell_type": "code",
   "execution_count": 0,
   "metadata": {
    "application/vnd.databricks.v1+cell": {
     "cellMetadata": {
      "byteLimit": 2048000,
      "rowLimit": 10000
     },
     "inputWidgets": {},
     "nuid": "40421b47-c9c6-4af6-aad9-73ad7f1c3662",
     "showTitle": false,
     "title": ""
    }
   },
   "outputs": [
    {
     "data": {
      "text/html": [
       "<style scoped>\n",
       "  .table-result-container {\n",
       "    max-height: 300px;\n",
       "    overflow: auto;\n",
       "  }\n",
       "  table, th, td {\n",
       "    border: 1px solid black;\n",
       "    border-collapse: collapse;\n",
       "  }\n",
       "  th, td {\n",
       "    padding: 5px;\n",
       "  }\n",
       "  th {\n",
       "    text-align: left;\n",
       "  }\n",
       "</style><div class='table-result-container'><table class='table-result'><thead style='background-color: white'><tr><th>OrderID</th><th>OrderDate</th><th>CustomerID</th><th>Product</th><th>Quantity</th><th>Price</th></tr></thead><tbody><tr><td>1001</td><td>2024-01-15</td><td>C001</td><td>Widget A</td><td>10</td><td>25.5</td></tr><tr><td>1002</td><td>2024-01-16</td><td>C002</td><td>Widget B</td><td>5</td><td>15.75</td></tr><tr><td>1004</td><td>2024-01-17</td><td>C003</td><td>Widget A</td><td>15</td><td>25.5</td></tr><tr><td>1005</td><td>2024-01-18</td><td>C004</td><td>Widget D</td><td>7</td><td>30.0</td></tr><tr><td>1006</td><td>2024-01-19</td><td>C002</td><td>Widget B</td><td>9</td><td>15.75</td></tr><tr><td>1007</td><td>2024-01-20</td><td>C005</td><td>Widget C</td><td>12</td><td>22.5</td></tr><tr><td>1008</td><td>2024-01-21</td><td>C003</td><td>Widget A</td><td>10</td><td>25.5</td></tr><tr><td>1003</td><td>2024-01-16</td><td>C001</td><td>Widget C</td><td>200</td><td>22.5</td></tr></tbody></table></div>"
      ]
     },
     "metadata": {
      "application/vnd.databricks.v1+output": {
       "addedWidgets": {},
       "aggData": [],
       "aggError": "",
       "aggOverflow": false,
       "aggSchema": [],
       "aggSeriesLimitReached": false,
       "aggType": "",
       "arguments": {},
       "columnCustomDisplayInfos": {},
       "data": [
        [
         1001,
         "2024-01-15",
         "C001",
         "Widget A",
         10,
         25.5
        ],
        [
         1002,
         "2024-01-16",
         "C002",
         "Widget B",
         5,
         15.75
        ],
        [
         1004,
         "2024-01-17",
         "C003",
         "Widget A",
         15,
         25.5
        ],
        [
         1005,
         "2024-01-18",
         "C004",
         "Widget D",
         7,
         30
        ],
        [
         1006,
         "2024-01-19",
         "C002",
         "Widget B",
         9,
         15.75
        ],
        [
         1007,
         "2024-01-20",
         "C005",
         "Widget C",
         12,
         22.5
        ],
        [
         1008,
         "2024-01-21",
         "C003",
         "Widget A",
         10,
         25.5
        ],
        [
         1003,
         "2024-01-16",
         "C001",
         "Widget C",
         200,
         22.5
        ]
       ],
       "datasetInfos": [],
       "dbfsResultPath": null,
       "isJsonSchema": true,
       "metadata": {},
       "overflow": false,
       "plotOptions": {
        "customPlotOptions": {},
        "displayType": "table",
        "pivotAggregation": null,
        "pivotColumns": null,
        "xColumns": null,
        "yColumns": null
       },
       "removedWidgets": [],
       "schema": [
        {
         "metadata": "{}",
         "name": "OrderID",
         "type": "\"integer\""
        },
        {
         "metadata": "{\"__detected_date_formats\":\"yyyy-M-d\"}",
         "name": "OrderDate",
         "type": "\"date\""
        },
        {
         "metadata": "{}",
         "name": "CustomerID",
         "type": "\"string\""
        },
        {
         "metadata": "{}",
         "name": "Product",
         "type": "\"string\""
        },
        {
         "metadata": "{}",
         "name": "Quantity",
         "type": "\"integer\""
        },
        {
         "metadata": "{}",
         "name": "Price",
         "type": "\"double\""
        }
       ],
       "type": "table"
      }
     },
     "output_type": "display_data"
    },
    {
     "data": {
      "text/html": [
       "<style scoped>\n",
       "  .table-result-container {\n",
       "    max-height: 300px;\n",
       "    overflow: auto;\n",
       "  }\n",
       "  table, th, td {\n",
       "    border: 1px solid black;\n",
       "    border-collapse: collapse;\n",
       "  }\n",
       "  th, td {\n",
       "    padding: 5px;\n",
       "  }\n",
       "  th {\n",
       "    text-align: left;\n",
       "  }\n",
       "</style><div class='table-result-container'><table class='table-result'><thead style='background-color: white'><tr><th>OrderID</th><th>OrderDate</th><th>CustomerID</th><th>Product</th><th>Quantity</th><th>Price</th></tr></thead><tbody><tr><td>1001</td><td>2024-01-15</td><td>C001</td><td>Widget A</td><td>10</td><td>25.5</td></tr><tr><td>1002</td><td>2024-01-16</td><td>C002</td><td>Widget B</td><td>5</td><td>15.75</td></tr><tr><td>1003</td><td>2024-01-16</td><td>C001</td><td>Widget C</td><td>8</td><td>22.5</td></tr><tr><td>1004</td><td>2024-01-17</td><td>C003</td><td>Widget A</td><td>15</td><td>25.5</td></tr><tr><td>1005</td><td>2024-01-18</td><td>C004</td><td>Widget D</td><td>7</td><td>30.0</td></tr><tr><td>1006</td><td>2024-01-19</td><td>C002</td><td>Widget B</td><td>9</td><td>15.75</td></tr><tr><td>1007</td><td>2024-01-20</td><td>C005</td><td>Widget C</td><td>12</td><td>22.5</td></tr><tr><td>1008</td><td>2024-01-21</td><td>C003</td><td>Widget A</td><td>10</td><td>25.5</td></tr></tbody></table></div>"
      ]
     },
     "metadata": {
      "application/vnd.databricks.v1+output": {
       "addedWidgets": {},
       "aggData": [],
       "aggError": "",
       "aggOverflow": false,
       "aggSchema": [],
       "aggSeriesLimitReached": false,
       "aggType": "",
       "arguments": {},
       "columnCustomDisplayInfos": {},
       "data": [
        [
         1001,
         "2024-01-15",
         "C001",
         "Widget A",
         10,
         25.5
        ],
        [
         1002,
         "2024-01-16",
         "C002",
         "Widget B",
         5,
         15.75
        ],
        [
         1003,
         "2024-01-16",
         "C001",
         "Widget C",
         8,
         22.5
        ],
        [
         1004,
         "2024-01-17",
         "C003",
         "Widget A",
         15,
         25.5
        ],
        [
         1005,
         "2024-01-18",
         "C004",
         "Widget D",
         7,
         30
        ],
        [
         1006,
         "2024-01-19",
         "C002",
         "Widget B",
         9,
         15.75
        ],
        [
         1007,
         "2024-01-20",
         "C005",
         "Widget C",
         12,
         22.5
        ],
        [
         1008,
         "2024-01-21",
         "C003",
         "Widget A",
         10,
         25.5
        ]
       ],
       "datasetInfos": [],
       "dbfsResultPath": null,
       "isJsonSchema": true,
       "metadata": {},
       "overflow": false,
       "plotOptions": {
        "customPlotOptions": {},
        "displayType": "table",
        "pivotAggregation": null,
        "pivotColumns": null,
        "xColumns": null,
        "yColumns": null
       },
       "removedWidgets": [],
       "schema": [
        {
         "metadata": "{}",
         "name": "OrderID",
         "type": "\"integer\""
        },
        {
         "metadata": "{\"__detected_date_formats\":\"yyyy-M-d\"}",
         "name": "OrderDate",
         "type": "\"date\""
        },
        {
         "metadata": "{}",
         "name": "CustomerID",
         "type": "\"string\""
        },
        {
         "metadata": "{}",
         "name": "Product",
         "type": "\"string\""
        },
        {
         "metadata": "{}",
         "name": "Quantity",
         "type": "\"integer\""
        },
        {
         "metadata": "{}",
         "name": "Price",
         "type": "\"double\""
        }
       ],
       "type": "table"
      }
     },
     "output_type": "display_data"
    },
    {
     "data": {
      "text/plain": [
       "DataFrame[path: string]"
      ]
     },
     "execution_count": 53,
     "metadata": {},
     "output_type": "execute_result"
    }
   ],
   "source": [
    "df.write.format(\"delta\").mode(\"overwrite\").save(\"/delta/new_data\")\n",
    "\n",
    "# Updating the Delta Table\n",
    "spark.sql(\"UPDATE delta.`/delta/new_data` SET Quantity = Quantity * 25 WHERE OrderID = 1003\")\n",
    "updated_df = spark.read.format(\"delta\").load(\"/delta/new_data\")\n",
    "display(updated_df)\n",
    "\n",
    "# Reading the previous version of the Delta Table\n",
    "previous_version = spark.read.format(\"delta\").option(\"versionAsOf\", 0).load(\"/delta/new_data\")\n",
    "display(previous_version)\n",
    "\n",
    "# Optimize the Delta table\n",
    "spark.sql(\"\"\"\n",
    "    OPTIMIZE delta.`/delta/new_data` ZORDER BY OrderID\n",
    "\"\"\")\n",
    "\n",
    "# Vacuum the Delta table\n",
    "spark.sql(\"\"\"\n",
    "    VACUUM delta.`/delta/new_data` RETAIN 168 HOURS\n",
    "\"\"\")\n"
   ]
  },
  {
   "cell_type": "markdown",
   "metadata": {
    "application/vnd.databricks.v1+cell": {
     "cellMetadata": {},
     "inputWidgets": {},
     "nuid": "5b38973d-f0b6-4b29-994d-666c7e63303e",
     "showTitle": false,
     "title": ""
    }
   },
   "source": [
    "8. Managed and Unmanaged Tables\n",
    "Task: Creating Managed and Unmanaged Tables\n",
    "Create a managed table with at least 100,000 rows of sales or transaction data.\n",
    "Create an unmanaged table with similar data, specifying an external location\n",
    "for the data.\n",
    "Perform basic operations like selecting, updating, and deleting records from\n",
    "both tables."
   ]
  },
  {
   "cell_type": "code",
   "execution_count": 0,
   "metadata": {
    "application/vnd.databricks.v1+cell": {
     "cellMetadata": {
      "byteLimit": 2048000,
      "rowLimit": 10000
     },
     "inputWidgets": {},
     "nuid": "07446c0b-6b60-4a7a-91cc-4f3ac7d46beb",
     "showTitle": false,
     "title": ""
    }
   },
   "outputs": [
    {
     "name": "stdout",
     "output_type": "stream",
     "text": [
      "+-------+----------+----------+--------+--------+-----+\n",
      "|OrderID| OrderDate|CustomerID| Product|Quantity|Price|\n",
      "+-------+----------+----------+--------+--------+-----+\n",
      "|   1001|2024-01-15|      C001|Widget A|      10| 25.5|\n",
      "|   1002|2024-01-16|      C002|Widget B|       5|15.75|\n",
      "|   1003|2024-01-16|      C001|Widget C|       8| 22.5|\n",
      "|   1004|2024-01-17|      C003|Widget A|      15| 25.5|\n",
      "|   1005|2024-01-18|      C004|Widget D|       7| 30.0|\n",
      "|   1006|2024-01-19|      C002|Widget B|       9|15.75|\n",
      "|   1007|2024-01-20|      C005|Widget C|      12| 22.5|\n",
      "|   1008|2024-01-21|      C003|Widget A|      10| 25.5|\n",
      "+-------+----------+----------+--------+--------+-----+\n",
      "\n",
      "+-------+----------+----------+--------+--------+-----+\n",
      "|OrderID| OrderDate|CustomerID| Product|Quantity|Price|\n",
      "+-------+----------+----------+--------+--------+-----+\n",
      "|   1001|2024-01-15|      C001|Widget A|      10| 25.5|\n",
      "|   1002|2024-01-16|      C002|Widget B|       5|15.75|\n",
      "|   1003|2024-01-16|      C001|Widget C|       8| 22.5|\n",
      "|   1004|2024-01-17|      C003|Widget A|      15| 25.5|\n",
      "|   1005|2024-01-18|      C004|Widget D|       7| 30.0|\n",
      "|   1006|2024-01-19|      C002|Widget B|       9|15.75|\n",
      "|   1007|2024-01-20|      C005|Widget C|      12| 22.5|\n",
      "|   1008|2024-01-21|      C003|Widget A|      10| 25.5|\n",
      "+-------+----------+----------+--------+--------+-----+\n",
      "\n"
     ]
    }
   ],
   "source": [
    "# Creating a managed table\n",
    "df.write.saveAsTable(\"managed_sales_data\")\n",
    "\n",
    "# Creating an unmanaged table with external location\n",
    "df.write.option(\"path\", \"/mnt/data/external_sales_data\").saveAsTable(\"unmanaged_sales_data\")\n",
    "\n",
    "# Query both tables\n",
    "spark.sql(\"SELECT * FROM managed_sales_data\").show()\n",
    "spark.sql(\"SELECT * FROM unmanaged_sales_data\").show()\n"
   ]
  },
  {
   "cell_type": "markdown",
   "metadata": {
    "application/vnd.databricks.v1+cell": {
     "cellMetadata": {},
     "inputWidgets": {},
     "nuid": "922f6f8a-492b-4819-b874-a53bb19b1f35",
     "showTitle": false,
     "title": ""
    }
   },
   "source": [
    "9. Views and Temporary Views\n",
    "Task: Working with Views in Databricks\n",
    "Create a view, temporary view, and global temporary view from a dataset\n",
    "containing at least 100,000 rows.\n",
    "Perform queries on these views and analyze their behavior across different\n",
    "sessions."
   ]
  },
  {
   "cell_type": "code",
   "execution_count": 0,
   "metadata": {
    "application/vnd.databricks.v1+cell": {
     "cellMetadata": {
      "byteLimit": 2048000,
      "rowLimit": 10000
     },
     "inputWidgets": {},
     "nuid": "a855a53b-b7d2-4a6b-8894-ec2e504c7883",
     "showTitle": false,
     "title": ""
    }
   },
   "outputs": [
    {
     "name": "stdout",
     "output_type": "stream",
     "text": [
      "+-------+----------+----------+--------+--------+-----+\n",
      "|OrderID| OrderDate|CustomerID| Product|Quantity|Price|\n",
      "+-------+----------+----------+--------+--------+-----+\n",
      "|   1001|2024-01-15|      C001|Widget A|      10| 25.5|\n",
      "|   1002|2024-01-16|      C002|Widget B|       5|15.75|\n",
      "|   1003|2024-01-16|      C001|Widget C|       8| 22.5|\n",
      "|   1004|2024-01-17|      C003|Widget A|      15| 25.5|\n",
      "|   1005|2024-01-18|      C004|Widget D|       7| 30.0|\n",
      "|   1006|2024-01-19|      C002|Widget B|       9|15.75|\n",
      "|   1007|2024-01-20|      C005|Widget C|      12| 22.5|\n",
      "|   1008|2024-01-21|      C003|Widget A|      10| 25.5|\n",
      "+-------+----------+----------+--------+--------+-----+\n",
      "\n",
      "+-------+----------+----------+--------+--------+-----+\n",
      "|OrderID| OrderDate|CustomerID| Product|Quantity|Price|\n",
      "+-------+----------+----------+--------+--------+-----+\n",
      "|   1001|2024-01-15|      C001|Widget A|      10| 25.5|\n",
      "|   1002|2024-01-16|      C002|Widget B|       5|15.75|\n",
      "|   1003|2024-01-16|      C001|Widget C|       8| 22.5|\n",
      "|   1004|2024-01-17|      C003|Widget A|      15| 25.5|\n",
      "|   1005|2024-01-18|      C004|Widget D|       7| 30.0|\n",
      "|   1006|2024-01-19|      C002|Widget B|       9|15.75|\n",
      "|   1007|2024-01-20|      C005|Widget C|      12| 22.5|\n",
      "|   1008|2024-01-21|      C003|Widget A|      10| 25.5|\n",
      "+-------+----------+----------+--------+--------+-----+\n",
      "\n"
     ]
    }
   ],
   "source": [
    "# Create a temporary view\n",
    "df.createOrReplaceTempView(\"temp_sales_view\")\n",
    "\n",
    "# Create a global temporary view\n",
    "df.createGlobalTempView(\"global_temp_sales_view\")\n",
    "\n",
    "# spark.catalog.dropGlobalTempView(\"global_temp_sales_view\")\n",
    "\n",
    "# Query the temporary and global views\n",
    "spark.sql(\"SELECT * FROM temp_sales_view\").show()\n",
    "spark.sql(\"SELECT * FROM global_temp.global_temp_sales_view\").show()"
   ]
  }
 ],
 "metadata": {
  "application/vnd.databricks.v1+notebook": {
   "dashboards": [],
   "environmentMetadata": {
    "base_environment": "",
    "client": "1"
   },
   "language": "python",
   "notebookMetadata": {
    "pythonIndentUnit": 4
   },
   "notebookName": "Databricks exercise",
   "widgets": {}
  },
  "language_info": {
   "name": "python"
  }
 },
 "nbformat": 4,
 "nbformat_minor": 0
}
