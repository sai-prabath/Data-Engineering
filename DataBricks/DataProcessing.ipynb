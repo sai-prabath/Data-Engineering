{
 "cells": [
  {
   "cell_type": "code",
   "execution_count": 0,
   "metadata": {
    "application/vnd.databricks.v1+cell": {
     "cellMetadata": {
      "byteLimit": 2048000,
      "rowLimit": 10000
     },
     "inputWidgets": {},
     "nuid": "fcd0ae70-dd6c-4f35-a5ec-336e37353a1a",
     "showTitle": false,
     "title": ""
    }
   },
   "outputs": [
    {
     "output_type": "display_data",
     "data": {
      "text/html": [
       "<style scoped>\n",
       "  .table-result-container {\n",
       "    max-height: 300px;\n",
       "    overflow: auto;\n",
       "  }\n",
       "  table, th, td {\n",
       "    border: 1px solid black;\n",
       "    border-collapse: collapse;\n",
       "  }\n",
       "  th, td {\n",
       "    padding: 5px;\n",
       "  }\n",
       "  th {\n",
       "    text-align: left;\n",
       "  }\n",
       "</style><div class='table-result-container'><table class='table-result'><thead style='background-color: white'><tr><th>Date</th><th>Region</th><th>Product</th><th>Quantity</th><th>Price</th></tr></thead><tbody><tr><td>2024-09-01</td><td>North</td><td>Widget A</td><td>10</td><td>25.5</td></tr><tr><td>2024-09-01</td><td>South</td><td>Widget B</td><td>5</td><td>15.75</td></tr><tr><td>2024-09-02</td><td>North</td><td>Widget A</td><td>12</td><td>25.5</td></tr><tr><td>2024-09-02</td><td>East</td><td>Widget C</td><td>8</td><td>22.5</td></tr><tr><td>2024-09-03</td><td>West</td><td>Widget A</td><td>15</td><td>25.5</td></tr><tr><td>2024-09-03</td><td>South</td><td>Widget B</td><td>20</td><td>15.75</td></tr><tr><td>2024-09-03</td><td>East</td><td>Widget C</td><td>10</td><td>22.5</td></tr><tr><td>2024-09-04</td><td>North</td><td>Widget D</td><td>7</td><td>30.0</td></tr><tr><td>2024-09-04</td><td>West</td><td>Widget B</td><td>9</td><td>15.75</td></tr></tbody></table></div>"
      ]
     },
     "metadata": {
      "application/vnd.databricks.v1+output": {
       "addedWidgets": {},
       "aggData": [],
       "aggError": "",
       "aggOverflow": false,
       "aggSchema": [],
       "aggSeriesLimitReached": false,
       "aggType": "",
       "arguments": {},
       "columnCustomDisplayInfos": {},
       "data": [
        [
         "2024-09-01",
         "North",
         "Widget A",
         10,
         25.5
        ],
        [
         "2024-09-01",
         "South",
         "Widget B",
         5,
         15.75
        ],
        [
         "2024-09-02",
         "North",
         "Widget A",
         12,
         25.5
        ],
        [
         "2024-09-02",
         "East",
         "Widget C",
         8,
         22.5
        ],
        [
         "2024-09-03",
         "West",
         "Widget A",
         15,
         25.5
        ],
        [
         "2024-09-03",
         "South",
         "Widget B",
         20,
         15.75
        ],
        [
         "2024-09-03",
         "East",
         "Widget C",
         10,
         22.5
        ],
        [
         "2024-09-04",
         "North",
         "Widget D",
         7,
         30.0
        ],
        [
         "2024-09-04",
         "West",
         "Widget B",
         9,
         15.75
        ]
       ],
       "datasetInfos": [],
       "dbfsResultPath": null,
       "isJsonSchema": true,
       "metadata": {},
       "overflow": false,
       "plotOptions": {
        "customPlotOptions": {},
        "displayType": "table",
        "pivotAggregation": null,
        "pivotColumns": null,
        "xColumns": null,
        "yColumns": null
       },
       "removedWidgets": [],
       "schema": [
        {
         "metadata": "{\"__detected_date_formats\":\"yyyy-M-d\"}",
         "name": "Date",
         "type": "\"date\""
        },
        {
         "metadata": "{}",
         "name": "Region",
         "type": "\"string\""
        },
        {
         "metadata": "{}",
         "name": "Product",
         "type": "\"string\""
        },
        {
         "metadata": "{}",
         "name": "Quantity",
         "type": "\"integer\""
        },
        {
         "metadata": "{}",
         "name": "Price",
         "type": "\"double\""
        }
       ],
       "type": "table"
      }
     },
     "output_type": "display_data"
    }
   ],
   "source": [
    "# copy file\n",
    "dbutils.fs.cp(\"file:/Workspace/Shared/sales_data.csv\", \"dbfs:/FileStore/sales_data.csv\")\n",
    "\n",
    "data = \"dbfs:/FileStore/sales_data.csv\"\n",
    "sales_df = spark.read.csv(data, header=True, inferSchema=True)\n",
    "display(sales_df)"
   ]
  },
  {
   "cell_type": "code",
   "execution_count": 0,
   "metadata": {
    "application/vnd.databricks.v1+cell": {
     "cellMetadata": {
      "byteLimit": 2048000,
      "rowLimit": 10000
     },
     "inputWidgets": {},
     "nuid": "d2cb0a0a-cb5f-414a-ba1e-9162d050bc10",
     "showTitle": false,
     "title": ""
    }
   },
   "outputs": [],
   "source": [
    "# sql table from data frame\n",
    "sales_df.write.saveAsTable(\"sales_table\")"
   ]
  },
  {
   "cell_type": "code",
   "execution_count": 0,
   "metadata": {
    "application/vnd.databricks.v1+cell": {
     "cellMetadata": {
      "byteLimit": 2048000,
      "rowLimit": 10000
     },
     "inputWidgets": {},
     "nuid": "4a7f2c33-fa0f-411f-b789-1a29a7b18cf8",
     "showTitle": false,
     "title": ""
    }
   },
   "outputs": [
    {
     "output_type": "stream",
     "name": "stdout",
     "output_type": "stream",
     "text": [
      "+----------+------+--------+--------+-----+\n|      Date|Region| Product|Quantity|Price|\n+----------+------+--------+--------+-----+\n|2024-09-01| North|Widget A|      10| 25.5|\n|2024-09-01| South|Widget B|       5|15.75|\n|2024-09-02| North|Widget A|      12| 25.5|\n|2024-09-02|  East|Widget C|       8| 22.5|\n|2024-09-03|  West|Widget A|      15| 25.5|\n|2024-09-03| South|Widget B|      20|15.75|\n|2024-09-03|  East|Widget C|      10| 22.5|\n|2024-09-04| North|Widget D|       7| 30.0|\n|2024-09-04|  West|Widget B|       9|15.75|\n+----------+------+--------+--------+-----+\n\n"
     ]
    }
   ],
   "source": [
    "# read table using spark sql\n",
    "sales_df_table = spark.read.table(\"sales_table\")\n",
    "sales_df_table.show()"
   ]
  },
  {
   "cell_type": "code",
   "execution_count": 0,
   "metadata": {
    "application/vnd.databricks.v1+cell": {
     "cellMetadata": {
      "byteLimit": 2048000,
      "rowLimit": 10000
     },
     "inputWidgets": {},
     "nuid": "c1239eba-20ec-4e39-8d79-5f16f361ce3d",
     "showTitle": false,
     "title": ""
    }
   },
   "outputs": [],
   "source": [
    "# Writing data to a Delta table\n",
    "sales_df.write.format(\"delta\").mode(\"overwrite\").save(\"/Workspace/Shared/delta_sales_data\")"
   ]
  },
  {
   "cell_type": "code",
   "execution_count": 0,
   "metadata": {
    "application/vnd.databricks.v1+cell": {
     "cellMetadata": {
      "byteLimit": 2048000,
      "rowLimit": 10000
     },
     "inputWidgets": {},
     "nuid": "ee234919-8e48-444d-b9f4-052746f222c0",
     "showTitle": false,
     "title": ""
    }
   },
   "outputs": [
    {
     "output_type": "stream",
     "name": "stdout",
     "output_type": "stream",
     "text": [
      "+----------+------+--------+--------+-----+\n|      Date|Region| Product|Quantity|Price|\n+----------+------+--------+--------+-----+\n|2024-09-01| North|Widget A|      10| 25.5|\n|2024-09-01| South|Widget B|       5|15.75|\n|2024-09-02| North|Widget A|      12| 25.5|\n|2024-09-02|  East|Widget C|       8| 22.5|\n|2024-09-03|  West|Widget A|      15| 25.5|\n|2024-09-03| South|Widget B|      20|15.75|\n|2024-09-03|  East|Widget C|      10| 22.5|\n|2024-09-04| North|Widget D|       7| 30.0|\n|2024-09-04|  West|Widget B|       9|15.75|\n+----------+------+--------+--------+-----+\n\n"
     ]
    }
   ],
   "source": [
    "# Reading data from a Delta table\n",
    "df_delta = spark.read.format(\"delta\").load(\"/Workspace/Shared/delta_sales_data\")\n",
    "df_delta.show()\n"
   ]
  },
  {
   "cell_type": "code",
   "execution_count": 0,
   "metadata": {
    "application/vnd.databricks.v1+cell": {
     "cellMetadata": {
      "byteLimit": 2048000,
      "rowLimit": 10000
     },
     "inputWidgets": {},
     "nuid": "be00ed72-ddfc-4389-8335-52b8ad3bc03e",
     "showTitle": false,
     "title": ""
    }
   },
   "outputs": [],
   "source": [
    "# saving as table\n",
    "df_delta.write.saveAsTable(\"delta_sales_table\")"
   ]
  },
  {
   "cell_type": "code",
   "execution_count": 0,
   "metadata": {
    "application/vnd.databricks.v1+cell": {
     "cellMetadata": {
      "byteLimit": 2048000,
      "rowLimit": 10000
     },
     "inputWidgets": {},
     "nuid": "924643f4-0b0e-4adc-a8a9-0d4b3359ab2e",
     "showTitle": false,
     "title": ""
    }
   },
   "outputs": [
    {
     "output_type": "stream",
     "name": "stdout",
     "output_type": "stream",
     "text": [
      "+----------+------+--------+--------+-----+\n|      Date|Region| Product|Quantity|Price|\n+----------+------+--------+--------+-----+\n|2024-09-02| North|Widget A|      12| 25.5|\n|2024-09-03|  West|Widget A|      15| 25.5|\n|2024-09-03| South|Widget B|      20|15.75|\n+----------+------+--------+--------+-----+\n\n"
     ]
    }
   ],
   "source": [
    "# Query Delta Table with SQL\n",
    "df_query = spark.sql(\"SELECT * FROM delta_sales_table WHERE Quantity > 10\")\n",
    "df_query.show()"
   ]
  }
 ],
 "metadata": {
  "application/vnd.databricks.v1+notebook": {
   "dashboards": [],
   "environmentMetadata": {
    "base_environment": "",
    "client": "1"
   },
   "language": "python",
   "notebookMetadata": {
    "pythonIndentUnit": 4
   },
   "notebookName": "DataProcessing",
   "widgets": {}
  }
 },
 "nbformat": 4,
 "nbformat_minor": 0
}
