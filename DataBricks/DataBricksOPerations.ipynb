{
 "cells": [
  {
   "cell_type": "markdown",
   "metadata": {
    "application/vnd.databricks.v1+cell": {
     "cellMetadata": {},
     "inputWidgets": {},
     "nuid": "3cdd597a-5cb3-42bf-a234-978b9c8ee677",
     "showTitle": false,
     "title": ""
    }
   },
   "source": [
    "# Demo"
   ]
  },
  {
   "cell_type": "code",
   "execution_count": 0,
   "metadata": {
    "application/vnd.databricks.v1+cell": {
     "cellMetadata": {
      "byteLimit": 2048000,
      "rowLimit": 10000
     },
     "inputWidgets": {},
     "nuid": "3aa72e37-0f69-445d-b9f6-8d8cc3070337",
     "showTitle": false,
     "title": ""
    }
   },
   "outputs": [
    {
     "output_type": "display_data",
     "data": {
      "text/html": [
       "<style scoped>\n",
       "  .table-result-container {\n",
       "    max-height: 300px;\n",
       "    overflow: auto;\n",
       "  }\n",
       "  table, th, td {\n",
       "    border: 1px solid black;\n",
       "    border-collapse: collapse;\n",
       "  }\n",
       "  th, td {\n",
       "    padding: 5px;\n",
       "  }\n",
       "  th {\n",
       "    text-align: left;\n",
       "  }\n",
       "</style><div class='table-result-container'><table class='table-result'><thead style='background-color: white'><tr><th>id</th><th>name</th><th>age</th><th>salary</th></tr></thead><tbody><tr><td>1</td><td>Alice</td><td>30</td><td>70000.0</td></tr><tr><td>2</td><td>Bob</td><td>25</td><td>48000.0</td></tr><tr><td>3</td><td>Charlie</td><td>35</td><td>120000.0</td></tr><tr><td>4</td><td>David</td><td>28</td><td>54000.0</td></tr></tbody></table></div>"
      ]
     },
     "metadata": {
      "application/vnd.databricks.v1+output": {
       "addedWidgets": {},
       "aggData": [],
       "aggError": "",
       "aggOverflow": false,
       "aggSchema": [],
       "aggSeriesLimitReached": false,
       "aggType": "",
       "arguments": {},
       "columnCustomDisplayInfos": {},
       "data": [
        [
         1,
         "Alice",
         30,
         70000.0
        ],
        [
         2,
         "Bob",
         25,
         48000.0
        ],
        [
         3,
         "Charlie",
         35,
         120000.0
        ],
        [
         4,
         "David",
         28,
         54000.0
        ]
       ],
       "datasetInfos": [],
       "dbfsResultPath": null,
       "isJsonSchema": true,
       "metadata": {},
       "overflow": false,
       "plotOptions": {
        "customPlotOptions": {},
        "displayType": "table",
        "pivotAggregation": null,
        "pivotColumns": null,
        "xColumns": null,
        "yColumns": null
       },
       "removedWidgets": [],
       "schema": [
        {
         "metadata": "{}",
         "name": "id",
         "type": "\"long\""
        },
        {
         "metadata": "{}",
         "name": "name",
         "type": "\"string\""
        },
        {
         "metadata": "{}",
         "name": "age",
         "type": "\"long\""
        },
        {
         "metadata": "{}",
         "name": "salary",
         "type": "\"double\""
        }
       ],
       "type": "table"
      }
     },
     "output_type": "display_data"
    }
   ],
   "source": [
    "data = [\n",
    "    (1, \"Alice\", 30, 70000.0),\n",
    "    (2, \"Bob\", 25, 48000.0),\n",
    "    (3, \"Charlie\", 35, 120000.0),\n",
    "    (4, \"David\", 28, 54000.0)\n",
    "]\n",
    "\n",
    "columns = [\"id\", \"name\", \"age\", \"salary\"]\n",
    "\n",
    "df=spark.createDataFrame(data, columns)\n",
    "display(df)"
   ]
  },
  {
   "cell_type": "code",
   "execution_count": 0,
   "metadata": {
    "application/vnd.databricks.v1+cell": {
     "cellMetadata": {
      "byteLimit": 2048000,
      "rowLimit": 10000
     },
     "inputWidgets": {},
     "nuid": "8ab32bbf-5ec8-4bee-bfca-a68b2d33117a",
     "showTitle": true,
     "title": "only for reference"
    }
   },
   "outputs": [
    {
     "output_type": "stream",
     "name": "stdout",
     "output_type": "stream",
     "text": [
      "Hello World!\n"
     ]
    }
   ],
   "source": [
    "# Read streaming data from a socket (simulated source)\n",
    "lines = spark.readStream.format(\"socket\").option(\"host\", \"localhost\").option(\"port\", 9999).load()\n",
    "# Split the lines into words\n",
    "words = lines.selectExpr(\"explode(split(value, ' ')) as word\")\n",
    "# Count the number of words\n",
    "wordCounts = words.groupBy(\"word\").count()\n",
    "# Start the streaming query to console\n",
    "query = wordCounts.writeStream.outputMode(\"complete\").format(\"console\").start()\n",
    "# Await termination (keep it running)\n",
    "query.awaitTermination()"
   ]
  },
  {
   "cell_type": "markdown",
   "metadata": {
    "application/vnd.databricks.v1+cell": {
     "cellMetadata": {},
     "inputWidgets": {},
     "nuid": "1e728e16-ef92-43a5-93b1-3867bfba7b8c",
     "showTitle": false,
     "title": ""
    }
   },
   "source": [
    "# Exercise"
   ]
  },
  {
   "cell_type": "code",
   "execution_count": 0,
   "metadata": {
    "application/vnd.databricks.v1+cell": {
     "cellMetadata": {
      "byteLimit": 2048000,
      "rowLimit": 10000
     },
     "inputWidgets": {},
     "nuid": "fd28410d-f468-4e38-a527-ee9c1c4023a7",
     "showTitle": true,
     "title": "Exercise"
    }
   },
   "outputs": [
    {
     "output_type": "display_data",
     "data": {
      "text/html": [
       "<style scoped>\n",
       "  .table-result-container {\n",
       "    max-height: 300px;\n",
       "    overflow: auto;\n",
       "  }\n",
       "  table, th, td {\n",
       "    border: 1px solid black;\n",
       "    border-collapse: collapse;\n",
       "  }\n",
       "  th, td {\n",
       "    padding: 5px;\n",
       "  }\n",
       "  th {\n",
       "    text-align: left;\n",
       "  }\n",
       "</style><div class='table-result-container'><table class='table-result'><thead style='background-color: white'><tr><th>FL_DATE</th><th>CARRIER</th><th>ORIGIN</th><th>DEST</th><th>DEP_DELAY</th><th>ARR_DELAY</th></tr></thead><tbody><tr><td>2023-09-01</td><td>AA</td><td>ATL</td><td>DFW</td><td>5</td><td>10</td></tr><tr><td>2023-09-01</td><td>UA</td><td>LAX</td><td>JFK</td><td>-3</td><td>0</td></tr><tr><td>2023-09-01</td><td>DL</td><td>SFO</td><td>ORD</td><td>7</td><td>15</td></tr><tr><td>2023-09-02</td><td>AA</td><td>DFW</td><td>LAX</td><td>0</td><td>-5</td></tr><tr><td>2023-09-02</td><td>UA</td><td>JFK</td><td>ATL</td><td>-2</td><td>0</td></tr><tr><td>2023-09-02</td><td>DL</td><td>ORD</td><td>LAX</td><td>20</td><td>30</td></tr><tr><td>2023-09-03</td><td>AA</td><td>LAX</td><td>SFO</td><td>10</td><td>12</td></tr><tr><td>2023-09-03</td><td>UA</td><td>ATL</td><td>ORD</td><td>0</td><td>-10</td></tr><tr><td>2023-09-03</td><td>DL</td><td>SFO</td><td>JFK</td><td>5</td><td>25</td></tr><tr><td>2023-09-04</td><td>AA</td><td>JFK</td><td>LAX</td><td>0</td><td>0</td></tr></tbody></table></div>"
      ]
     },
     "metadata": {
      "application/vnd.databricks.v1+output": {
       "addedWidgets": {},
       "aggData": [],
       "aggError": "",
       "aggOverflow": false,
       "aggSchema": [],
       "aggSeriesLimitReached": false,
       "aggType": "",
       "arguments": {},
       "columnCustomDisplayInfos": {},
       "data": [
        [
         "2023-09-01",
         "AA",
         "ATL",
         "DFW",
         5,
         10
        ],
        [
         "2023-09-01",
         "UA",
         "LAX",
         "JFK",
         -3,
         0
        ],
        [
         "2023-09-01",
         "DL",
         "SFO",
         "ORD",
         7,
         15
        ],
        [
         "2023-09-02",
         "AA",
         "DFW",
         "LAX",
         0,
         -5
        ],
        [
         "2023-09-02",
         "UA",
         "JFK",
         "ATL",
         -2,
         0
        ],
        [
         "2023-09-02",
         "DL",
         "ORD",
         "LAX",
         20,
         30
        ],
        [
         "2023-09-03",
         "AA",
         "LAX",
         "SFO",
         10,
         12
        ],
        [
         "2023-09-03",
         "UA",
         "ATL",
         "ORD",
         0,
         -10
        ],
        [
         "2023-09-03",
         "DL",
         "SFO",
         "JFK",
         5,
         25
        ],
        [
         "2023-09-04",
         "AA",
         "JFK",
         "LAX",
         0,
         0
        ]
       ],
       "datasetInfos": [],
       "dbfsResultPath": null,
       "isJsonSchema": true,
       "metadata": {},
       "overflow": false,
       "plotOptions": {
        "customPlotOptions": {},
        "displayType": "table",
        "pivotAggregation": null,
        "pivotColumns": null,
        "xColumns": null,
        "yColumns": null
       },
       "removedWidgets": [],
       "schema": [
        {
         "metadata": "{\"__detected_date_formats\":\"yyyy-M-d\"}",
         "name": "FL_DATE",
         "type": "\"date\""
        },
        {
         "metadata": "{}",
         "name": "CARRIER",
         "type": "\"string\""
        },
        {
         "metadata": "{}",
         "name": "ORIGIN",
         "type": "\"string\""
        },
        {
         "metadata": "{}",
         "name": "DEST",
         "type": "\"string\""
        },
        {
         "metadata": "{}",
         "name": "DEP_DELAY",
         "type": "\"integer\""
        },
        {
         "metadata": "{}",
         "name": "ARR_DELAY",
         "type": "\"integer\""
        }
       ],
       "type": "table"
      }
     },
     "output_type": "display_data"
    }
   ],
   "source": [
    "# Task 1: Load the Dataset\n",
    "# Load a CSV file into a Spark DataFrame in Databricks.\n",
    "# Display the first 10 rows and inspect the schema of the dataset.\n",
    "data = 'file:/Workspace/Shared/data.csv'\n",
    "df = spark.read.csv(data, header=True, inferSchema=True)\n",
    "display(df.limit(10))\n"
   ]
  },
  {
   "cell_type": "code",
   "execution_count": 0,
   "metadata": {
    "application/vnd.databricks.v1+cell": {
     "cellMetadata": {
      "byteLimit": 2048000,
      "rowLimit": 10000
     },
     "inputWidgets": {},
     "nuid": "5a53a64f-d564-4173-b01f-16bee33b27ec",
     "showTitle": false,
     "title": ""
    }
   },
   "outputs": [
    {
     "output_type": "display_data",
     "data": {
      "text/html": [
       "<style scoped>\n",
       "  .table-result-container {\n",
       "    max-height: 300px;\n",
       "    overflow: auto;\n",
       "  }\n",
       "  table, th, td {\n",
       "    border: 1px solid black;\n",
       "    border-collapse: collapse;\n",
       "  }\n",
       "  th, td {\n",
       "    padding: 5px;\n",
       "  }\n",
       "  th {\n",
       "    text-align: left;\n",
       "  }\n",
       "</style><div class='table-result-container'><table class='table-result'><thead style='background-color: white'><tr><th>FL_DATE</th><th>CARRIER</th><th>ORIGIN</th><th>DEST</th><th>DEP_DELAY</th><th>ARR_DELAY</th></tr></thead><tbody><tr><td>2023-09-01</td><td>AA</td><td>ATL</td><td>DFW</td><td>5</td><td>10</td></tr><tr><td>2023-09-01</td><td>DL</td><td>SFO</td><td>ORD</td><td>7</td><td>15</td></tr><tr><td>2023-09-02</td><td>DL</td><td>ORD</td><td>LAX</td><td>20</td><td>30</td></tr><tr><td>2023-09-03</td><td>AA</td><td>LAX</td><td>SFO</td><td>10</td><td>12</td></tr><tr><td>2023-09-03</td><td>DL</td><td>SFO</td><td>JFK</td><td>5</td><td>25</td></tr><tr><td>2023-09-04</td><td>UA</td><td>ORD</td><td>ATL</td><td>15</td><td>20</td></tr><tr><td>2023-09-05</td><td>AA</td><td>LAX</td><td>JFK</td><td>20</td><td>25</td></tr><tr><td>2023-09-05</td><td>DL</td><td>JFK</td><td>LAX</td><td>10</td><td>15</td></tr></tbody></table></div>"
      ]
     },
     "metadata": {
      "application/vnd.databricks.v1+output": {
       "addedWidgets": {},
       "aggData": [],
       "aggError": "",
       "aggOverflow": false,
       "aggSchema": [],
       "aggSeriesLimitReached": false,
       "aggType": "",
       "arguments": {},
       "columnCustomDisplayInfos": {},
       "data": [
        [
         "2023-09-01",
         "AA",
         "ATL",
         "DFW",
         5,
         10
        ],
        [
         "2023-09-01",
         "DL",
         "SFO",
         "ORD",
         7,
         15
        ],
        [
         "2023-09-02",
         "DL",
         "ORD",
         "LAX",
         20,
         30
        ],
        [
         "2023-09-03",
         "AA",
         "LAX",
         "SFO",
         10,
         12
        ],
        [
         "2023-09-03",
         "DL",
         "SFO",
         "JFK",
         5,
         25
        ],
        [
         "2023-09-04",
         "UA",
         "ORD",
         "ATL",
         15,
         20
        ],
        [
         "2023-09-05",
         "AA",
         "LAX",
         "JFK",
         20,
         25
        ],
        [
         "2023-09-05",
         "DL",
         "JFK",
         "LAX",
         10,
         15
        ]
       ],
       "datasetInfos": [],
       "dbfsResultPath": null,
       "isJsonSchema": true,
       "metadata": {},
       "overflow": false,
       "plotOptions": {
        "customPlotOptions": {},
        "displayType": "table",
        "pivotAggregation": null,
        "pivotColumns": null,
        "xColumns": null,
        "yColumns": null
       },
       "removedWidgets": [],
       "schema": [
        {
         "metadata": "{\"__detected_date_formats\":\"yyyy-M-d\"}",
         "name": "FL_DATE",
         "type": "\"date\""
        },
        {
         "metadata": "{}",
         "name": "CARRIER",
         "type": "\"string\""
        },
        {
         "metadata": "{}",
         "name": "ORIGIN",
         "type": "\"string\""
        },
        {
         "metadata": "{}",
         "name": "DEST",
         "type": "\"string\""
        },
        {
         "metadata": "{}",
         "name": "DEP_DELAY",
         "type": "\"integer\""
        },
        {
         "metadata": "{}",
         "name": "ARR_DELAY",
         "type": "\"integer\""
        }
       ],
       "type": "table"
      }
     },
     "output_type": "display_data"
    }
   ],
   "source": [
    "# Task 2: Data Cleaning\n",
    "# Drop any rows containing null values.\n",
    "# Filter out rows where a specific column (e.g., ARR_DELAY) is less than or equal to zero.\n",
    "drop_df = df.na.drop()\n",
    "filter_df = drop_df.filter(df.ARR_DELAY > 0)\n",
    "display(filter_df)\n"
   ]
  },
  {
   "cell_type": "code",
   "execution_count": 0,
   "metadata": {
    "application/vnd.databricks.v1+cell": {
     "cellMetadata": {
      "byteLimit": 2048000,
      "rowLimit": 10000
     },
     "inputWidgets": {},
     "nuid": "4bba1122-c869-4e96-9282-3a422aad906a",
     "showTitle": false,
     "title": ""
    }
   },
   "outputs": [
    {
     "output_type": "display_data",
     "data": {
      "text/html": [
       "<style scoped>\n",
       "  .table-result-container {\n",
       "    max-height: 300px;\n",
       "    overflow: auto;\n",
       "  }\n",
       "  table, th, td {\n",
       "    border: 1px solid black;\n",
       "    border-collapse: collapse;\n",
       "  }\n",
       "  th, td {\n",
       "    padding: 5px;\n",
       "  }\n",
       "  th {\n",
       "    text-align: left;\n",
       "  }\n",
       "</style><div class='table-result-container'><table class='table-result'><thead style='background-color: white'><tr><th>CARRIER</th><th>avg(ARR_DELAY)</th><th>min(ARR_DELAY)</th><th>max(ARR_DELAY)</th></tr></thead><tbody><tr><td>UA</td><td>20.0</td><td>20</td><td>20</td></tr><tr><td>AA</td><td>15.666666666666666</td><td>10</td><td>25</td></tr><tr><td>DL</td><td>21.25</td><td>15</td><td>30</td></tr></tbody></table></div>"
      ]
     },
     "metadata": {
      "application/vnd.databricks.v1+output": {
       "addedWidgets": {},
       "aggData": [],
       "aggError": "",
       "aggOverflow": false,
       "aggSchema": [],
       "aggSeriesLimitReached": false,
       "aggType": "",
       "arguments": {},
       "columnCustomDisplayInfos": {},
       "data": [
        [
         "UA",
         20.0,
         20,
         20
        ],
        [
         "AA",
         15.666666666666666,
         10,
         25
        ],
        [
         "DL",
         21.25,
         15,
         30
        ]
       ],
       "datasetInfos": [],
       "dbfsResultPath": null,
       "isJsonSchema": true,
       "metadata": {},
       "overflow": false,
       "plotOptions": {
        "customPlotOptions": {},
        "displayType": "table",
        "pivotAggregation": null,
        "pivotColumns": null,
        "xColumns": null,
        "yColumns": null
       },
       "removedWidgets": [],
       "schema": [
        {
         "metadata": "{}",
         "name": "CARRIER",
         "type": "\"string\""
        },
        {
         "metadata": "{}",
         "name": "avg(ARR_DELAY)",
         "type": "\"double\""
        },
        {
         "metadata": "{}",
         "name": "min(ARR_DELAY)",
         "type": "\"integer\""
        },
        {
         "metadata": "{}",
         "name": "max(ARR_DELAY)",
         "type": "\"integer\""
        }
       ],
       "type": "table"
      }
     },
     "output_type": "display_data"
    }
   ],
   "source": [
    "# Task 3: Aggregation and Summary Statistics\n",
    "# Group the data by a categorical column (e.g., CARRIER) and calculate the average value of a numerical column (e.g., ARR_DELAY).\n",
    "# Find the minimum, maximum, and mean values for a numerical column (e.g., ARR_DELAY).\n",
    "from pyspark.sql.functions import avg, min, max\n",
    "grouped_df = filter_df.groupBy('CARRIER').agg(avg('ARR_DELAY'), min('ARR_DELAY'), max('ARR_DELAY'))\n",
    "display(grouped_df)"
   ]
  },
  {
   "cell_type": "code",
   "execution_count": 0,
   "metadata": {
    "application/vnd.databricks.v1+cell": {
     "cellMetadata": {
      "byteLimit": 2048000,
      "rowLimit": 10000
     },
     "inputWidgets": {},
     "nuid": "b7477cbf-8e13-45ab-b976-8032a529944a",
     "showTitle": false,
     "title": ""
    }
   },
   "outputs": [
    {
     "output_type": "stream",
     "name": "stdout",
     "output_type": "stream",
     "text": [
      "+----------+-------+------+----+---------+---------+\n|   FL_DATE|CARRIER|ORIGIN|DEST|DEP_DELAY|ARR_DELAY|\n+----------+-------+------+----+---------+---------+\n|2023-09-01|     AA|   ATL| DFW|        5|       10|\n|2023-09-01|     UA|   LAX| JFK|       -3|        0|\n|2023-09-01|     DL|   SFO| ORD|        7|       15|\n|2023-09-02|     AA|   DFW| LAX|        0|       -5|\n|2023-09-02|     UA|   JFK| ATL|       -2|        0|\n|2023-09-02|     DL|   ORD| LAX|       20|       30|\n|2023-09-03|     AA|   LAX| SFO|       10|       12|\n|2023-09-03|     UA|   ATL| ORD|        0|      -10|\n|2023-09-03|     DL|   SFO| JFK|        5|       25|\n|2023-09-04|     AA|   JFK| LAX|        0|        0|\n|2023-09-04|     UA|   ORD| ATL|       15|       20|\n|2023-09-04|     DL|   LAX| SFO|       -5|      -10|\n|2023-09-05|     AA|   LAX| JFK|       20|       25|\n|2023-09-05|     UA|   DFW| ATL|        0|        0|\n|2023-09-05|     DL|   JFK| LAX|       10|       15|\n+----------+-------+------+----+---------+---------+\n\n"
     ]
    }
   ],
   "source": [
    "# Task 4: Data Visualization\n",
    "# Use Databricks' built-in visualizations to create a bar chart showing the total count of entries for each category (e.g., total number of flights per CARRIER).\n",
    "# Create a histogram that shows the distribution of a numerical column (e.g., distribution of ARR_DELAY).\n",
    "\n",
    "# Move the file from Workspace to DBFS\n",
    "dbutils.fs.cp(\"file:/Workspace/Shared/data.csv\", \"dbfs:/FileStore/data.csv\")\n",
    " \n",
    "# Load the file from DBFS\n",
    "df = spark.read.format(\"csv\").option(\"header\", \"true\").load(\"/FileStore/data.csv\")\n",
    "df.show()\n"
   ]
  },
  {
   "cell_type": "code",
   "execution_count": 0,
   "metadata": {
    "application/vnd.databricks.v1+cell": {
     "cellMetadata": {
      "byteLimit": 2048000,
      "rowLimit": 10000
     },
     "inputWidgets": {},
     "nuid": "aeff9215-1d48-4721-85a4-24f56f82d26a",
     "showTitle": false,
     "title": ""
    }
   },
   "outputs": [
    {
     "output_type": "execute_result",
     "data": {
      "text/plain": [
       "<function matplotlib.pyplot.show(close=None, block=None)>"
      ]
     },
     "execution_count": 2,
     "metadata": {},
     "output_type": "execute_result"
    },
    {
     "output_type": "display_data",
     "data": {
      "image/png": "[encoded data removed]",
      "text/plain": [
       "<Figure size 640x480 with 1 Axes>"
      ]
     },
     "metadata": {},
     "output_type": "display_data"
    }
   ],
   "source": [
    "import matplotlib.pyplot as plt\n",
    "import pandas as pd\n",
    "\n",
    "df_pandas = df.groupBy('CARRIER').agg({\"ARR_DELAY\": \"avg\"}).toPandas()\n",
    "df_pandas.plot(kind='bar', x='CARRIER', y='avg(ARR_DELAY)', legend=True)\n",
    "plt.title('Average Arrival Delay by Airline')\n",
    "plt.xlabel('Airline')\n",
    "plt.ylabel('Average Arrival Delay in minutes')\n",
    "plt.show\n",
    "                      "
   ]
  },
  {
   "cell_type": "code",
   "execution_count": 0,
   "metadata": {
    "application/vnd.databricks.v1+cell": {
     "cellMetadata": {},
     "collapsed": true,
     "inputWidgets": {},
     "nuid": "170c9b4d-c979-43be-98c4-c259de89ea58",
     "showTitle": false,
     "title": ""
    }
   },
   "outputs": [],
   "source": [
    "'''\n",
    "\n",
    "\n",
    "### **Task 3: Data Cleaning**\n",
    "\n",
    "1. **Handle missing values**: Drop rows with missing values from the dataset.\n",
    "   - Use `.na.drop()` to remove rows containing `null` values.\n",
    "   - Verify if there are any null values left using `.filter()`.\n",
    "\n",
    "   Example:\n",
    "   ```python\n",
    "   df_cleaned = df.na.drop()\n",
    "   df_cleaned.show()\n",
    "   ```\n",
    "\n",
    "2. **Filter rows**: Create a filtered DataFrame where arrival delays are greater than `0`.\n",
    "   \n",
    "   Example:\n",
    "   ```python\n",
    "   df_filtered = df.filter(df['ARR_DELAY'] > 0)\n",
    "   df_filtered.show()\n",
    "   ```\n",
    "\n",
    "---\n",
    "\n",
    "### **Task 4: Aggregating and Summarizing the Data**\n",
    "\n",
    "1. **Find the average arrival delay by airline**:\n",
    "   - Group by `CARRIER` and calculate the average of `ARR_DELAY`.\n",
    "\n",
    "   Example:\n",
    "   ```python\n",
    "   df.groupBy(\"CARRIER\").agg({\"ARR_DELAY\": \"avg\"}).show()\n",
    "   ```\n",
    "\n",
    "2. **Count the number of flights per airline**:\n",
    "   - Group by `CARRIER` and count the total number of flights.\n",
    "\n",
    "   Example:\n",
    "   ```python\n",
    "   df.groupBy(\"CARRIER\").count().show()\n",
    "   ```\n",
    "\n",
    "3. **Find the minimum and maximum delay** for all flights:\n",
    "   - Use `.agg()` to calculate both the minimum and maximum delay.\n",
    "\n",
    "   Example:\n",
    "   ```python\n",
    "   df.agg({\"ARR_DELAY\": \"min\", \"ARR_DELAY\": \"max\"}).show()\n",
    "   ```\n",
    "\n",
    "---\n",
    "\n",
    "### **Task 5: Visualizing the Data**\n",
    "\n",
    "1. **Plot the average delay per airline** using Databricks’ built-in visualization tools:\n",
    "   - Use `display()` to visualize the result from the average delay aggregation.\n",
    "\n",
    "   Example:\n",
    "   ```python\n",
    "   display(df.groupBy(\"CARRIER\").agg({\"ARR_DELAY\": \"avg\"}))\n",
    "   ```\n",
    "\n",
    "2. **Visualize flight count by airline** using a bar chart:\n",
    "   - Use the `display()` function and convert the table into a bar chart in the UI.\n",
    "\n",
    "   Example:\n",
    "   ```python\n",
    "   display(df.groupBy(\"CARRIER\").count())\n",
    "   ```\n",
    "\n",
    "3. **Plot the distribution of arrival delays** using a histogram:\n",
    "   - Group by `ARR_DELAY` and count, then use the Databricks visualization tool to create a histogram.\n",
    "\n",
    "   Example:\n",
    "   ```python\n",
    "   display(df.groupBy(\"ARR_DELAY\").count())\n",
    "   ```\n",
    "\n",
    "---\n",
    "\n",
    "\n",
    "'''\n"
   ]
  },
  {
   "cell_type": "markdown",
   "metadata": {
    "application/vnd.databricks.v1+cell": {
     "cellMetadata": {},
     "inputWidgets": {},
     "nuid": "9de14b43-2b06-4874-b477-64079cfa7ec9",
     "showTitle": false,
     "title": ""
    }
   },
   "source": [
    "# csv and data processing"
   ]
  },
  {
   "cell_type": "code",
   "execution_count": 0,
   "metadata": {
    "application/vnd.databricks.v1+cell": {
     "cellMetadata": {
      "byteLimit": 2048000,
      "rowLimit": 10000
     },
     "inputWidgets": {},
     "nuid": "93cb6c1f-28ff-4391-9447-abb77276cf3b",
     "showTitle": true,
     "title": "fetch csv"
    }
   },
   "outputs": [
    {
     "output_type": "stream",
     "name": "stdout",
     "output_type": "stream",
     "text": [
      "+----------+-------------+----------+-----------+------+\n|EmployeeID|         Name|Department|JoiningDate|Salary|\n+----------+-------------+----------+-----------+------+\n|      1001|     John Doe|        HR| 2021-01-15| 55000|\n|      1002|   Jane Smith|        IT| 2020-03-10| 62000|\n|      1003|Emily Johnson|   Finance| 2019-07-01| 70000|\n|      1004|Michael Brown|        HR| 2018-12-22| 54000|\n|      1005| David Wilson|        IT| 2021-06-25| 58000|\n|      1006|  Linda Davis|   Finance| 2020-11-15| 67000|\n|      1007| James Miller|        IT| 2019-08-14| 65000|\n|      1008|Barbara Moore|        HR| 2021-03-29| 53000|\n+----------+-------------+----------+-----------+------+\n\n"
     ]
    }
   ],
   "source": [
    "data = \"file:/Workspace/Shared/employee_data.csv\"\n",
    "employee_df = spark.read.csv(data, header=True, inferSchema=True)\n",
    "employee_df.show()"
   ]
  },
  {
   "cell_type": "code",
   "execution_count": 0,
   "metadata": {
    "application/vnd.databricks.v1+cell": {
     "cellMetadata": {
      "byteLimit": 2048000,
      "rowLimit": 10000
     },
     "inputWidgets": {},
     "nuid": "b75b34f9-bcfb-40dc-9fe8-1b9b2086c887",
     "showTitle": true,
     "title": "fetch json"
    }
   },
   "outputs": [
    {
     "output_type": "stream",
     "name": "stdout",
     "output_type": "stream",
     "text": [
      "+---------+-----------+-----------+-----+-----+\n|ProductID|ProductName|   Category|Price|Stock|\n+---------+-----------+-----------+-----+-----+\n|      101|     Laptop|Electronics| 1200|   35|\n|      102| Smartphone|Electronics|  800|   80|\n|      103| Desk Chair|  Furniture|  150|   60|\n|      104|    Monitor|Electronics|  300|   45|\n|      105|       Desk|  Furniture|  350|   25|\n+---------+-----------+-----------+-----+-----+\n\n"
     ]
    }
   ],
   "source": [
    "data = \"file:/Workspace/Shared/product_data.json\"\n",
    "\n",
    "from pyspark.sql.types import StructType, StructField, StringType, IntegerType\n",
    "schema = StructType([\n",
    "    StructField(\"ProductID\", IntegerType(), True),\n",
    "    StructField(\"ProductName\", StringType(), True),\n",
    "    StructField(\"Category\", StringType(), True),\n",
    "    StructField(\"Price\", IntegerType(), True),\n",
    "    StructField(\"Stock\", IntegerType(), True)\n",
    "])\n",
    "\n",
    "product_df = spark.read.schema(schema).json(data)\n",
    "product_df.show()"
   ]
  },
  {
   "cell_type": "code",
   "execution_count": 0,
   "metadata": {
    "application/vnd.databricks.v1+cell": {
     "cellMetadata": {
      "byteLimit": 2048000,
      "rowLimit": 10000
     },
     "inputWidgets": {},
     "nuid": "c0da90b9-c547-4fb9-9f18-777ddc8cf86c",
     "showTitle": true,
     "title": "temporary view"
    }
   },
   "outputs": [],
   "source": [
    "product_df.createOrReplaceTempView(\"product_view\")"
   ]
  },
  {
   "cell_type": "code",
   "execution_count": 0,
   "metadata": {
    "application/vnd.databricks.v1+cell": {
     "cellMetadata": {
      "byteLimit": 2048000,
      "rowLimit": 10000
     },
     "inputWidgets": {},
     "nuid": "45a9237b-49c4-4c75-a9d8-79c9a7fd7d47",
     "showTitle": true,
     "title": "delta table from temp view"
    }
   },
   "outputs": [
    {
     "output_type": "execute_result",
     "data": {
      "text/plain": [
       "DataFrame[num_affected_rows: bigint, num_inserted_rows: bigint]"
      ]
     },
     "execution_count": 4,
     "metadata": {},
     "output_type": "execute_result"
    }
   ],
   "source": [
    "spark.sql('''\n",
    "    CREATE TABLE delta_product_table\n",
    "    USING DELTA\n",
    "    AS SELECT * FROM product_view\n",
    "''')"
   ]
  },
  {
   "cell_type": "code",
   "execution_count": 0,
   "metadata": {
    "application/vnd.databricks.v1+cell": {
     "cellMetadata": {
      "byteLimit": 2048000,
      "rowLimit": 10000
     },
     "inputWidgets": {},
     "nuid": "f4e53243-8f6c-41e8-9048-7a52ae59e335",
     "showTitle": true,
     "title": "show delta table"
    }
   },
   "outputs": [
    {
     "output_type": "stream",
     "name": "stdout",
     "output_type": "stream",
     "text": [
      "+---------+-----------+-----------+-----+-----+\n|ProductID|ProductName|   Category|Price|Stock|\n+---------+-----------+-----------+-----+-----+\n|      101|     Laptop|Electronics| 1200|   35|\n|      102| Smartphone|Electronics|  800|   80|\n|      103| Desk Chair|  Furniture|  150|   60|\n|      104|    Monitor|Electronics|  300|   45|\n|      105|       Desk|  Furniture|  350|   25|\n+---------+-----------+-----------+-----+-----+\n\n"
     ]
    }
   ],
   "source": [
    "spark.sql(\"SELECT * FROM delta_product_table\").show()"
   ]
  },
  {
   "cell_type": "markdown",
   "metadata": {
    "application/vnd.databricks.v1+cell": {
     "cellMetadata": {},
     "inputWidgets": {},
     "nuid": "a4cdaae8-80cc-48c0-85d7-11822869b8f7",
     "showTitle": false,
     "title": ""
    }
   },
   "source": [
    "# csv->delta and merge 2 delta"
   ]
  },
  {
   "cell_type": "code",
   "execution_count": 0,
   "metadata": {
    "application/vnd.databricks.v1+cell": {
     "cellMetadata": {
      "byteLimit": 2048000,
      "rowLimit": 10000
     },
     "inputWidgets": {},
     "nuid": "1394acdb-b796-4af6-9d8c-f7fcdb58dec9",
     "showTitle": true,
     "title": "read csv"
    }
   },
   "outputs": [],
   "source": [
    "emp = \"file:/Workspace/Shared/employee_data.csv\"\n",
    "emp_update =\"file:/Workspace/Shared/employee_updates.csv\"\n",
    "\n",
    "employee_df = spark.read.csv(emp, header=True, inferSchema=True)\n",
    "employee_update_df = spark.read.csv(emp_update, header=True, inferSchema=True)"
   ]
  },
  {
   "cell_type": "code",
   "execution_count": 0,
   "metadata": {
    "application/vnd.databricks.v1+cell": {
     "cellMetadata": {
      "byteLimit": 2048000,
      "rowLimit": 10000
     },
     "inputWidgets": {},
     "nuid": "cc4a277d-d12e-4dbf-b5ee-8042affb79f8",
     "showTitle": true,
     "title": "csv -> delta"
    }
   },
   "outputs": [],
   "source": [
    "\n",
    "employee_df.write.format(\"delta\").mode(\"overwrite\").save(\"/delta/employee_data\")\n",
    "employee_update_df.write.format(\"delta\").mode(\"overwrite\").save(\"/delta/employee_update_data\")\n"
   ]
  },
  {
   "cell_type": "code",
   "execution_count": 0,
   "metadata": {
    "application/vnd.databricks.v1+cell": {
     "cellMetadata": {
      "byteLimit": 2048000,
      "rowLimit": 10000
     },
     "inputWidgets": {},
     "nuid": "999ab32e-340b-4aa8-b713-41f3e54663b7",
     "showTitle": true,
     "title": "read delta"
    }
   },
   "outputs": [],
   "source": [
    "delta_emp_df = spark.read.format(\"delta\").load(\"/delta/employee_data\")\n",
    "delta_emp_update_df = spark.read.format(\"delta\").load(\"/delta/employee_update_data\")"
   ]
  },
  {
   "cell_type": "code",
   "execution_count": 0,
   "metadata": {
    "application/vnd.databricks.v1+cell": {
     "cellMetadata": {
      "byteLimit": 2048000,
      "rowLimit": 10000
     },
     "inputWidgets": {},
     "nuid": "f53780a5-0f53-4d22-ad40-a9dff79092ad",
     "showTitle": true,
     "title": "temporary view"
    }
   },
   "outputs": [],
   "source": [
    "delta_emp_df.createOrReplaceTempView(\"delta_emp_view\")\n",
    "delta_emp_update_df.createOrReplaceTempView(\"delta_emp_update_view\")"
   ]
  },
  {
   "cell_type": "code",
   "execution_count": 0,
   "metadata": {
    "application/vnd.databricks.v1+cell": {
     "cellMetadata": {
      "byteLimit": 2048000,
      "rowLimit": 10000
     },
     "inputWidgets": {},
     "nuid": "6c548a07-daeb-4d21-ba2c-54560c965fd3",
     "showTitle": true,
     "title": "merge"
    }
   },
   "outputs": [
    {
     "output_type": "stream",
     "name": "stdout",
     "output_type": "stream",
     "text": [
      "+----------+-------------+----------+-----------+------+\n|EmployeeID|         Name|Department|JoiningDate|Salary|\n+----------+-------------+----------+-----------+------+\n|      1002|   Jane Smith|        IT| 2020-03-10| 62000|\n|      1003|Emily Johnson|   Finance| 2019-07-01| 70000|\n|      1004|Michael Brown|        HR| 2018-12-22| 54000|\n|      1005| David Wilson|        IT| 2021-06-25| 58000|\n|      1006|  Linda Davis|   Finance| 2020-11-15| 67000|\n|      1007| James Miller|        IT| 2019-08-14| 65000|\n|      1008|Barbara Moore|        HR| 2021-03-29| 53000|\n|      1001|     John Doe|        HR| 2021-01-15| 58000|\n|      1009|  Sarah Adams| Marketing| 2021-09-01| 60000|\n|      1010|  Robert King|        IT| 2022-01-10| 62000|\n+----------+-------------+----------+-----------+------+\n\n"
     ]
    }
   ],
   "source": [
    "spark.sql('''\n",
    "MERGE INTO delta_emp_view AS TARGET\n",
    "USING delta_emp_update_view AS SOURCE\n",
    "ON TARGET.EmployeeId = SOURCE.EmployeeId\n",
    "WHEN MATCHED THEN UPDATE SET TARGET.Salary=SOURCE.Salary, TARGET.Department=SOURCE.Department\n",
    "WHEN NOT MATCHED THEN INSERT (EmployeeId, Name, Department, JoiningDate, Salary) \n",
    "VALUES (SOURCE.EmployeeId, SOURCE.Name, SOURCE.Department, SOURCE.JoiningDate, SOURCE.Salary)\n",
    "''')\n",
    "\n",
    "spark.sql(\"SELECT * FROM delta_emp_view\").show()\n"
   ]
  },
  {
   "cell_type": "markdown",
   "metadata": {
    "application/vnd.databricks.v1+cell": {
     "cellMetadata": {},
     "inputWidgets": {},
     "nuid": "7680e782-55be-4226-b69a-8c885d4edc01",
     "showTitle": false,
     "title": ""
    }
   },
   "source": [
    "# optimizing delta"
   ]
  },
  {
   "cell_type": "code",
   "execution_count": 0,
   "metadata": {
    "application/vnd.databricks.v1+cell": {
     "cellMetadata": {
      "byteLimit": 2048000,
      "rowLimit": 10000
     },
     "inputWidgets": {},
     "nuid": "0ba5f27e-809d-40a2-90fd-38d944b6891c",
     "showTitle": true,
     "title": "creating table using delta"
    }
   },
   "outputs": [
    {
     "output_type": "execute_result",
     "data": {
      "text/plain": [
       "DataFrame[]"
      ]
     },
     "execution_count": 2,
     "metadata": {},
     "output_type": "execute_result"
    }
   ],
   "source": [
    "spark.sql(\"CREATE TABLE IF NOT EXISTS delta_employee_table \n",
    "          USING DELTA \n",
    "          LOCATION '/delta/employee_data'\n",
    "          \")"
   ]
  },
  {
   "cell_type": "code",
   "execution_count": 0,
   "metadata": {
    "application/vnd.databricks.v1+cell": {
     "cellMetadata": {
      "byteLimit": 2048000,
      "rowLimit": 10000
     },
     "inputWidgets": {},
     "nuid": "712bbac2-6d40-46ab-a2ee-de23d219e5d3",
     "showTitle": true,
     "title": "optimize delta table"
    },
    "jupyter": {
     "outputs_hidden": true
    }
   },
   "outputs": [
    {
     "output_type": "execute_result",
     "data": {
      "text/plain": [
       "DataFrame[path: string, metrics: struct<numFilesAdded:bigint,numFilesRemoved:bigint,filesAdded:struct<min:bigint,max:bigint,avg:double,totalFiles:bigint,totalSize:bigint>,filesRemoved:struct<min:bigint,max:bigint,avg:double,totalFiles:bigint,totalSize:bigint>,partitionsOptimized:bigint,zOrderStats:struct<strategyName:string,inputCubeFiles:struct<num:bigint,size:bigint>,inputOtherFiles:struct<num:bigint,size:bigint>,inputNumCubes:bigint,mergedFiles:struct<num:bigint,size:bigint>,numOutputCubes:bigint,mergedNumCubes:bigint>,clusteringStats:struct<inputZCubeFiles:struct<numFiles:bigint,size:bigint>,inputOtherFiles:struct<numFiles:bigint,size:bigint>,inputNumZCubes:bigint,mergedFiles:struct<numFiles:bigint,size:bigint>,numOutputZCubes:bigint>,numBins:bigint,numBatches:bigint,totalConsideredFiles:bigint,totalFilesSkipped:bigint,preserveInsertionOrder:boolean,numFilesSkippedToReduceWriteAmplification:bigint,numBytesSkippedToReduceWriteAmplification:bigint,startTimeMs:bigint,endTimeMs:bigint,totalClusterParallelism:bigint,totalScheduledTasks:bigint,autoCompactParallelismStats:struct<maxClusterActiveParallelism:bigint,minClusterActiveParallelism:bigint,maxSessionActiveParallelism:bigint,minSessionActiveParallelism:bigint>,deletionVectorStats:struct<numDeletionVectorsRemoved:bigint,numDeletionVectorRowsRemoved:bigint>,numTableColumns:bigint,numTableColumnsWithStats:bigint,totalTaskExecutionTimeMs:bigint,skippedArchivedFiles:bigint,clusteringMetrics:struct<sizeOfTableInBytesBeforeLazyClustering:bigint,isNewMetadataCreated:boolean,isPOTriggered:boolean,numFilesSkippedWithoutStats:bigint,numFilesClassifiedToIntermediateNodes:bigint,sizeOfFilesClassifiedToIntermediateNodesInBytes:bigint,logicalSizeOfFilesClassifiedToIntermediateNodesInBytes:bigint,numFilesClassifiedToLeafNodes:bigint,sizeOfFilesClassifiedToLeafNodesInBytes:bigint,logicalSizeOfFilesClassifiedToLeafNodesInBytes:bigint,numThreadsForClassifier:int,clusterThresholdStrategy:string,minFileSize:bigint,maxFileSize:bigint,nodeMinNumFilesToCompact:bigint,numIdealFiles:bigint,numClusteringTasksPlanned:int,numCompactionTasksPlanned:int,numOptimizeBatchesPlanned:int,numLeafNodesExpanded:bigint,numLeafNodesClustered:bigint,numGetFilesForNodeCalls:bigint,numSamplingJobs:bigint,numLeafNodesCompacted:bigint,numIntermediateNodesCompacted:bigint,totalSizeOfDataToCompactInBytes:bigint,totalLogicalSizeOfDataToCompactInBytes:bigint,numIntermediateNodesClustered:bigint,numFilesSkippedAfterExpansion:bigint,totalSizeOfFilesSkippedAfterExpansionInBytes:bigint,totalLogicalSizeOfFilesSkippedAfterExpansionInBytes:bigint,totalSizeOfDataToRewriteInBytes:bigint,totalLogicalSizeOfDataToRewriteInBytes:bigint,timeMetrics:struct<classifierTimeMs:bigint,optimizerTimeMs:bigint,metadataLoadTimeMs:bigint,totalGetFilesForNodeCallsTimeMs:bigint,totalSamplingTimeMs:bigint,metadataCreationTimeMs:bigint>,maxOptimizeBatchesInParallel:bigint,currentIteration:int,maxIterations:int,clusteringStrategy:string>>]"
      ]
     },
     "execution_count": 3,
     "metadata": {},
     "output_type": "execute_result"
    }
   ],
   "source": [
    "spark.sql(\"OPTIMIZE delta_employee_table\")"
   ]
  },
  {
   "cell_type": "code",
   "execution_count": 0,
   "metadata": {
    "application/vnd.databricks.v1+cell": {
     "cellMetadata": {
      "byteLimit": 2048000,
      "rowLimit": 10000
     },
     "inputWidgets": {},
     "nuid": "05b22f7a-7f88-4725-9690-197815cb026d",
     "showTitle": true,
     "title": "describe history"
    },
    "jupyter": {
     "outputs_hidden": true
    }
   },
   "outputs": [
    {
     "output_type": "stream",
     "name": "stdout",
     "output_type": "stream",
     "text": [
      "+-------+-------------------+----------------+----------------------------------+---------+-------------------------------------------------------------------------------------------------------------------------------------------------------------------------------------------------------------------+----+------------------+--------------------+-----------+-----------------+-------------+-------------------------------------------------------------------------------------------------------------------------------------------------------------------------------------------------------------------------------------------------------------------------------------------------------------------------------------------------------------------------------------------------------------------------------------------------------------------------------------------------------------------------------------------------------------------------------------------------------------------------------------------------------------------------------------+------------+------------------------------------------+\n|version|timestamp          |userId          |userName                          |operation|operationParameters                                                                                                                                                                                                |job |notebook          |clusterId           |readVersion|isolationLevel   |isBlindAppend|operationMetrics                                                                                                                                                                                                                                                                                                                                                                                                                                                                                                                                                                                                                                                                     |userMetadata|engineInfo                                |\n+-------+-------------------+----------------+----------------------------------+---------+-------------------------------------------------------------------------------------------------------------------------------------------------------------------------------------------------------------------+----+------------------+--------------------+-----------+-----------------+-------------+-------------------------------------------------------------------------------------------------------------------------------------------------------------------------------------------------------------------------------------------------------------------------------------------------------------------------------------------------------------------------------------------------------------------------------------------------------------------------------------------------------------------------------------------------------------------------------------------------------------------------------------------------------------------------------------+------------+------------------------------------------+\n|11     |2024-09-13 04:17:28|8379095214579684|azuser2109_mml.local@techademy.com|OPTIMIZE |{predicate -> [], auto -> true, clusterBy -> [], zOrderBy -> [], batchId -> 0}                                                                                                                                     |NULL|{3714719545832430}|0911-102451-o8x6anfh|10         |SnapshotIsolation|false        |{numRemovedFiles -> 2, numRemovedBytes -> 2750, p25FileSize -> 1563, numDeletionVectorsRemoved -> 1, minFileSize -> 1563, numAddedFiles -> 1, maxFileSize -> 1563, p75FileSize -> 1563, p50FileSize -> 1563, numAddedBytes -> 1563}                                                                                                                                                                                                                                                                                                                                                                                                                                                  |NULL        |Databricks-Runtime/15.4.x-photon-scala2.12|\n|10     |2024-09-13 04:17:24|8379095214579684|azuser2109_mml.local@techademy.com|MERGE    |{predicate -> [\"(EmployeeId#759 = EmployeeId#769)\"], matchedPredicates -> [{\"actionType\":\"update\"}], statsOnLoad -> false, notMatchedBySourcePredicates -> [], notMatchedPredicates -> [{\"actionType\":\"insert\"}]}  |NULL|{3714719545832430}|0911-102451-o8x6anfh|9          |WriteSerializable|false        |{numTargetRowsCopied -> 0, numTargetRowsDeleted -> 0, numTargetFilesAdded -> 1, numTargetBytesAdded -> 1264, numTargetBytesRemoved -> 0, numTargetDeletionVectorsAdded -> 1, numTargetRowsMatchedUpdated -> 1, executionTimeMs -> 6061, materializeSourceTimeMs -> 984, numTargetRowsInserted -> 2, numTargetRowsMatchedDeleted -> 0, numTargetDeletionVectorsUpdated -> 0, scanTimeMs -> 2866, numTargetRowsUpdated -> 1, numOutputRows -> 3, numTargetDeletionVectorsRemoved -> 0, numTargetRowsNotMatchedBySourceUpdated -> 0, numTargetChangeFilesAdded -> 0, numSourceRows -> 3, numTargetFilesRemoved -> 0, numTargetRowsNotMatchedBySourceDeleted -> 0, rewriteTimeMs -> 2113}|NULL        |Databricks-Runtime/15.4.x-photon-scala2.12|\n|9      |2024-09-13 04:17:02|8379095214579684|azuser2109_mml.local@techademy.com|WRITE    |{mode -> Overwrite, statsOnLoad -> false, partitionBy -> []}                                                                                                                                                       |NULL|{3714719545832430}|0911-102451-o8x6anfh|8          |WriteSerializable|false        |{numFiles -> 1, numOutputRows -> 8, numOutputBytes -> 1486}                                                                                                                                                                                                                                                                                                                                                                                                                                                                                                                                                                                                                          |NULL        |Databricks-Runtime/15.4.x-photon-scala2.12|\n|8      |2024-09-12 12:05:38|8379095214579684|azuser2109_mml.local@techademy.com|OPTIMIZE |{predicate -> [], auto -> true, clusterBy -> [], zOrderBy -> [], batchId -> 0}                                                                                                                                     |NULL|{3714719545832430}|0911-102451-o8x6anfh|7          |SnapshotIsolation|false        |{numRemovedFiles -> 2, numRemovedBytes -> 2827, p25FileSize -> 1563, numDeletionVectorsRemoved -> 1, minFileSize -> 1563, numAddedFiles -> 1, maxFileSize -> 1563, p75FileSize -> 1563, p50FileSize -> 1563, numAddedBytes -> 1563}                                                                                                                                                                                                                                                                                                                                                                                                                                                  |NULL        |Databricks-Runtime/15.4.x-photon-scala2.12|\n|7      |2024-09-12 12:05:36|8379095214579684|azuser2109_mml.local@techademy.com|MERGE    |{predicate -> [\"(EmployeeId#3563 = EmployeeId#3573)\"], matchedPredicates -> [{\"actionType\":\"update\"}], statsOnLoad -> false, notMatchedBySourcePredicates -> [], notMatchedPredicates -> [{\"actionType\":\"insert\"}]}|NULL|{3714719545832430}|0911-102451-o8x6anfh|6          |WriteSerializable|false        |{numTargetRowsCopied -> 0, numTargetRowsDeleted -> 0, numTargetFilesAdded -> 1, numTargetBytesAdded -> 1264, numTargetBytesRemoved -> 0, numTargetDeletionVectorsAdded -> 1, numTargetRowsMatchedUpdated -> 3, executionTimeMs -> 1929, materializeSourceTimeMs -> 132, numTargetRowsInserted -> 0, numTargetRowsMatchedDeleted -> 0, numTargetDeletionVectorsUpdated -> 0, scanTimeMs -> 724, numTargetRowsUpdated -> 3, numOutputRows -> 3, numTargetDeletionVectorsRemoved -> 0, numTargetRowsNotMatchedBySourceUpdated -> 0, numTargetChangeFilesAdded -> 0, numSourceRows -> 3, numTargetFilesRemoved -> 0, numTargetRowsNotMatchedBySourceDeleted -> 0, rewriteTimeMs -> 974}  |NULL        |Databricks-Runtime/15.4.x-photon-scala2.12|\n|6      |2024-09-12 12:04:29|8379095214579684|azuser2109_mml.local@techademy.com|OPTIMIZE |{predicate -> [], auto -> true, clusterBy -> [], zOrderBy -> [], batchId -> 0}                                                                                                                                     |NULL|{3714719545832430}|0911-102451-o8x6anfh|5          |SnapshotIsolation|false        |{numRemovedFiles -> 2, numRemovedBytes -> 2750, p25FileSize -> 1563, numDeletionVectorsRemoved -> 1, minFileSize -> 1563, numAddedFiles -> 1, maxFileSize -> 1563, p75FileSize -> 1563, p50FileSize -> 1563, numAddedBytes -> 1563}                                                                                                                                                                                                                                                                                                                                                                                                                                                  |NULL        |Databricks-Runtime/15.4.x-photon-scala2.12|\n|5      |2024-09-12 12:04:25|8379095214579684|azuser2109_mml.local@techademy.com|MERGE    |{predicate -> [\"(EmployeeId#3563 = EmployeeId#3573)\"], matchedPredicates -> [{\"actionType\":\"update\"}], statsOnLoad -> false, notMatchedBySourcePredicates -> [], notMatchedPredicates -> [{\"actionType\":\"insert\"}]}|NULL|{3714719545832430}|0911-102451-o8x6anfh|4          |WriteSerializable|false        |{numTargetRowsCopied -> 0, numTargetRowsDeleted -> 0, numTargetFilesAdded -> 1, numTargetBytesAdded -> 1264, numTargetBytesRemoved -> 0, numTargetDeletionVectorsAdded -> 1, numTargetRowsMatchedUpdated -> 1, executionTimeMs -> 5519, materializeSourceTimeMs -> 871, numTargetRowsInserted -> 2, numTargetRowsMatchedDeleted -> 0, numTargetDeletionVectorsUpdated -> 0, scanTimeMs -> 2734, numTargetRowsUpdated -> 1, numOutputRows -> 3, numTargetDeletionVectorsRemoved -> 0, numTargetRowsNotMatchedBySourceUpdated -> 0, numTargetChangeFilesAdded -> 0, numSourceRows -> 3, numTargetFilesRemoved -> 0, numTargetRowsNotMatchedBySourceDeleted -> 0, rewriteTimeMs -> 1811}|NULL        |Databricks-Runtime/15.4.x-photon-scala2.12|\n|4      |2024-09-12 12:03:43|8379095214579684|azuser2109_mml.local@techademy.com|WRITE    |{mode -> Overwrite, statsOnLoad -> false, partitionBy -> []}                                                                                                                                                       |NULL|{3714719545832430}|0911-102451-o8x6anfh|3          |WriteSerializable|false        |{numFiles -> 1, numOutputRows -> 8, numOutputBytes -> 1486}                                                                                                                                                                                                                                                                                                                                                                                                                                                                                                                                                                                                                          |NULL        |Databricks-Runtime/15.4.x-photon-scala2.12|\n|3      |2024-09-12 12:03:30|8379095214579684|azuser2109_mml.local@techademy.com|WRITE    |{mode -> Overwrite, statsOnLoad -> false, partitionBy -> []}                                                                                                                                                       |NULL|{3714719545832430}|0911-102451-o8x6anfh|2          |WriteSerializable|false        |{numFiles -> 1, numOutputRows -> 8, numOutputBytes -> 1486}                                                                                                                                                                                                                                                                                                                                                                                                                                                                                                                                                                                                                          |NULL        |Databricks-Runtime/15.4.x-photon-scala2.12|\n|2      |2024-09-12 12:02:04|8379095214579684|azuser2109_mml.local@techademy.com|WRITE    |{mode -> Overwrite, statsOnLoad -> false, partitionBy -> []}                                                                                                                                                       |NULL|{3714719545832430}|0911-102451-o8x6anfh|1          |WriteSerializable|false        |{numFiles -> 1, numOutputRows -> 8, numOutputBytes -> 1486}                                                                                                                                                                                                                                                                                                                                                                                                                                                                                                                                                                                                                          |NULL        |Databricks-Runtime/15.4.x-photon-scala2.12|\n|1      |2024-09-12 12:01:24|8379095214579684|azuser2109_mml.local@techademy.com|WRITE    |{mode -> Overwrite, statsOnLoad -> false, partitionBy -> []}                                                                                                                                                       |NULL|{3714719545832430}|0911-102451-o8x6anfh|0          |WriteSerializable|false        |{numFiles -> 1, numOutputRows -> 8, numOutputBytes -> 1486}                                                                                                                                                                                                                                                                                                                                                                                                                                                                                                                                                                                                                          |NULL        |Databricks-Runtime/15.4.x-photon-scala2.12|\n|0      |2024-09-12 12:01:04|8379095214579684|azuser2109_mml.local@techademy.com|WRITE    |{mode -> Overwrite, statsOnLoad -> false, partitionBy -> []}                                                                                                                                                       |NULL|{3714719545832430}|0911-102451-o8x6anfh|NULL       |WriteSerializable|false        |{numFiles -> 1, numOutputRows -> 8, numOutputBytes -> 1486}                                                                                                                                                                                                                                                                                                                                                                                                                                                                                                                                                                                                                          |NULL        |Databricks-Runtime/15.4.x-photon-scala2.12|\n+-------+-------------------+----------------+----------------------------------+---------+-------------------------------------------------------------------------------------------------------------------------------------------------------------------------------------------------------------------+----+------------------+--------------------+-----------+-----------------+-------------+-------------------------------------------------------------------------------------------------------------------------------------------------------------------------------------------------------------------------------------------------------------------------------------------------------------------------------------------------------------------------------------------------------------------------------------------------------------------------------------------------------------------------------------------------------------------------------------------------------------------------------------------------------------------------------------+------------+------------------------------------------+\n\n"
     ]
    }
   ],
   "source": [
    "spark.sql(\"DESCRIBE HISTORY delta_employee_table\").show(truncate=False)"
   ]
  },
  {
   "cell_type": "code",
   "execution_count": 0,
   "metadata": {
    "application/vnd.databricks.v1+cell": {
     "cellMetadata": {},
     "inputWidgets": {},
     "nuid": "ad37d909-98b4-424b-b298-84fafb2ec074",
     "showTitle": true,
     "title": "optimize with clustering"
    }
   },
   "outputs": [],
   "source": [
    "spark.sql(\"OPTIMIZE delta_employee_table ZORDER BY Department\")"
   ]
  },
  {
   "cell_type": "code",
   "execution_count": 0,
   "metadata": {
    "application/vnd.databricks.v1+cell": {
     "cellMetadata": {},
     "inputWidgets": {},
     "nuid": "4774c67a-06f8-40c6-b658-f03cb4698b6e",
     "showTitle": true,
     "title": "vacuum - delete older records"
    }
   },
   "outputs": [],
   "source": [
    "# retain last 7 days record only\n",
    "spark.sql(\"VACUUM delta_employee_table RETAIN 168 HOURS\")"
   ]
  },
  {
   "cell_type": "markdown",
   "metadata": {
    "application/vnd.databricks.v1+cell": {
     "cellMetadata": {},
     "inputWidgets": {},
     "nuid": "6541edfa-a0cf-49fc-a093-b048836da2f7",
     "showTitle": false,
     "title": ""
    }
   },
   "source": [
    "# tables"
   ]
  },
  {
   "cell_type": "code",
   "execution_count": 0,
   "metadata": {
    "application/vnd.databricks.v1+cell": {
     "cellMetadata": {},
     "inputWidgets": {},
     "nuid": "f24c9ae8-95a5-4998-8e54-9fccd25d6b35",
     "showTitle": true,
     "title": "managed table"
    }
   },
   "outputs": [],
   "source": [
    "%sql\n",
    "CREATE TABLE managed_table (\n",
    "  id INT,\n",
    "  name STRING\n",
    ")"
   ]
  },
  {
   "cell_type": "code",
   "execution_count": 0,
   "metadata": {
    "application/vnd.databricks.v1+cell": {
     "cellMetadata": {},
     "inputWidgets": {},
     "nuid": "d126ad8c-aca6-4482-a462-ec07998496d7",
     "showTitle": true,
     "title": "unmanaged table"
    }
   },
   "outputs": [],
   "source": [
    "%sql\n",
    "CREATE EXTERNAL TABLE unmanaged_table (\n",
    "  id INT,\n",
    "  name STRING\n",
    ")\n",
    "LOCATION '/user/data/ecternal_data'"
   ]
  },
  {
   "cell_type": "markdown",
   "metadata": {
    "application/vnd.databricks.v1+cell": {
     "cellMetadata": {},
     "inputWidgets": {},
     "nuid": "83aca06a-1d47-49d8-b9fe-e6fc924cfa45",
     "showTitle": false,
     "title": ""
    }
   },
   "source": [
    "difference\n",
    "![](/Workspace/Shared/managedVSunmanaged.png)"
   ]
  },
  {
   "cell_type": "markdown",
   "metadata": {
    "application/vnd.databricks.v1+cell": {
     "cellMetadata": {},
     "inputWidgets": {},
     "nuid": "10fabd55-18b1-4e96-b2e1-9abf9279a781",
     "showTitle": false,
     "title": ""
    }
   },
   "source": [
    "# Streaming data"
   ]
  },
  {
   "cell_type": "code",
   "execution_count": 0,
   "metadata": {
    "application/vnd.databricks.v1+cell": {
     "cellMetadata": {
      "byteLimit": 2048000,
      "rowLimit": 10000
     },
     "inputWidgets": {},
     "nuid": "7f7fee8c-f13f-4521-9373-9d0a2b23867f",
     "showTitle": true,
     "title": "structured streaming"
    }
   },
   "outputs": [
    {
     "output_type": "stream",
     "name": "stdout",
     "output_type": "stream",
     "text": [
      "root\n |-- OrderID: integer (nullable = true)\n |-- OrderDate: string (nullable = true)\n |-- CustomerID: string (nullable = true)\n |-- Product: string (nullable = true)\n |-- Quantity: integer (nullable = true)\n |-- Price: double (nullable = true)\n\nroot\n |-- CustomerID: string (nullable = true)\n |-- CustomerName: string (nullable = true)\n |-- Region: string (nullable = true)\n |-- SignupDate: string (nullable = true)\n\n"
     ]
    }
   ],
   "source": [
    "dbutils.fs.cp(\"file:/Workspace/Shared/sales_data2.csv\", \"dbfs:/FileStore/streaming/input/sales_data2.csv\")\n",
    "dbutils.fs.cp(\"file:/Workspace/Shared/customer_data.json\", \"dbfs:/FileStore/streaming/input/customer_data.json\")\n",
    "\n",
    "from pyspark.sql import SparkSession\n",
    "from pyspark.sql.functions import col\n",
    "\n",
    "spark = SparkSession.builder.appName(\"StructuredStreaming\").getOrCreate()\n",
    "\n",
    "sales_schema = \"OrderID INT, OrderDate STRING, CustomerID STRING, Product STRING, Quantity INT, Price DOUBLE\"\n",
    "df_sales_stream = spark.readStream.format(\"csv\").option(\"header\", \"true\").schema(sales_schema).load(\"dbfs:/FileStore/streaming/input/\")\n",
    "\n",
    "customer_schema = \"CustomerID STRING, CustomerName STRING, Region STRING, SignupDate STRING\"\n",
    "df_customers_stream = spark.readStream.format(\"json\").schema(customer_schema).load(\"dbfs:/FileStore/streaming/input/\")\n",
    "\n",
    "\n",
    "df_sales_stream.printSchema()\n",
    "df_customers_stream.printSchema()\n"
   ]
  },
  {
   "cell_type": "code",
   "execution_count": 0,
   "metadata": {
    "application/vnd.databricks.v1+cell": {
     "cellMetadata": {
      "byteLimit": 2048000,
      "rowLimit": 10000
     },
     "inputWidgets": {},
     "nuid": "d7720def-e2c3-4beb-9d3f-a7168e2571fb",
     "showTitle": true,
     "title": "transformation and watermark"
    }
   },
   "outputs": [
    {
     "output_type": "stream",
     "name": "stdout",
     "output_type": "stream",
     "text": [
      "Applied transformations on sales data...\nAggregated sales data by product...\nApplied transformations on customer data...\n"
     ]
    }
   ],
   "source": [
    "\n",
    "from pyspark.sql.functions import current_date, datediff, to_timestamp\n",
    "\n",
    "# Transform the sales data: Add a new column for total amount\n",
    "df_sales_transformed = df_sales_stream.select(\n",
    "    col(\"OrderID\"),\n",
    "    to_timestamp (col (\"OrderDate\"), \"yyyy-MM-dd HH:mm:ss\").alias (\"OrderDate\"), # Convert OrderDate to TIMESTAMP\n",
    "    col(\"Product\"),\n",
    "    col(\"Quantity\"),\n",
    "    col(\"Price\"),\n",
    "    (col(\"Quantity\") * col (\"Price\")).alias(\"TotalAmount\")\n",
    ")\n",
    "print(\"Applied transformations on sales data...\")\n",
    "\n",
    "# Add watermark to handle late data and perform an aggregation\n",
    "df_sales_aggregated = df_sales_transformed \\\n",
    "    .withWatermark(\"OrderDate\", \"1 day\") \\\n",
    "    .groupBy(\"Product\") \\\n",
    "    .agg({\"TotalAmount\": \"sum\"})\n",
    "\n",
    "print(\"Aggregated sales data by product...\")\n",
    "\n",
    "# Transform the customer data: Add a new column for the number of years since signup \n",
    "df_customers_transformed = df_customers_stream.withColumn(\n",
    "    \"YearsSinceSignup\",\n",
    "    datediff(current_date(), to_timestamp(col(\"SignupDate\"), \"yyyy-MM-dd\")).cast(\"int\") / 365\n",
    ")\n",
    "\n",
    "print(\"Applied transformations on customer data...\")"
   ]
  },
  {
   "cell_type": "code",
   "execution_count": 0,
   "metadata": {
    "application/vnd.databricks.v1+cell": {
     "cellMetadata": {
      "byteLimit": 2048000,
      "rowLimit": 10000
     },
     "inputWidgets": {},
     "nuid": "b59dd121-7852-47b1-91bf-95d80abda894",
     "showTitle": true,
     "title": "sink(WriteStream)"
    }
   },
   "outputs": [
    {
     "output_type": "stream",
     "name": "stdout",
     "output_type": "stream",
     "text": [
      "Started streaming query to write aggregated sales data to console...\nStarted streaming query to write transformed customer data to console...\n"
     ]
    }
   ],
   "source": [
    "\n",
    "# Write the aggregated sales data to a console sink for debugging \n",
    "sales_query= df_sales_aggregated.writeStream \\\n",
    "    .outputMode(\"update\") \\\n",
    "    .format(\"console\") \\\n",
    "    .start()\n",
    "\n",
    "print(\"Started streaming query to write aggregated sales data to console...\")\n",
    "\n",
    "# Write the transformed customer data to a console sink for debugging \n",
    "customers_query = df_customers_transformed.writeStream \\\n",
    "    .outputMode(\"append\") \\\n",
    "    .format(\"console\") \\\n",
    "    .start()\n",
    "\n",
    "print(\"Started streaming query to write transformed customer data to console...\")"
   ]
  },
  {
   "cell_type": "markdown",
   "metadata": {
    "application/vnd.databricks.v1+cell": {
     "cellMetadata": {},
     "inputWidgets": {},
     "nuid": "fd354bae-fbe1-4d20-b17f-55689b1ccdcb",
     "showTitle": false,
     "title": ""
    }
   },
   "source": [
    "# operations"
   ]
  },
  {
   "cell_type": "code",
   "execution_count": 0,
   "metadata": {
    "application/vnd.databricks.v1+cell": {
     "cellMetadata": {
      "byteLimit": 2048000,
      "rowLimit": 10000
     },
     "inputWidgets": {},
     "nuid": "c1a20440-2ebc-45e8-9c12-cb1e9cb9e60f",
     "showTitle": false,
     "title": ""
    }
   },
   "outputs": [
    {
     "output_type": "stream",
     "name": "stdout",
     "output_type": "stream",
     "text": [
      "Initial Delta table created and data written successfully.\nNew data appended to Delta table successfully.\nMerging new data into Delta table...\nData merged successfully.\nViewing Delta table history...\n+-------+-------------------+----------------+----------------------------------+---------+---------------------------------------------------------------------------------------------------------------------------------------------------------------------------------------------------+----+------------------+--------------------+-----------+-----------------+-------------+----------------------------------------------------------------------------------------------------------------------------------------------------------------------------------------------------------------------------------------------------------------------------------------------------------------------------------------------------------------------------------------------------------------------------------------------------------------------------------------------------------------------------------------------------------------------------------------------------------------------------------------------------------------------------------------+------------+------------------------------------------+\n|version|timestamp          |userId          |userName                          |operation|operationParameters                                                                                                                                                                                |job |notebook          |clusterId           |readVersion|isolationLevel   |isBlindAppend|operationMetrics                                                                                                                                                                                                                                                                                                                                                                                                                                                                                                                                                                                                                                                                        |userMetadata|engineInfo                                |\n+-------+-------------------+----------------+----------------------------------+---------+---------------------------------------------------------------------------------------------------------------------------------------------------------------------------------------------------+----+------------------+--------------------+-----------+-----------------+-------------+----------------------------------------------------------------------------------------------------------------------------------------------------------------------------------------------------------------------------------------------------------------------------------------------------------------------------------------------------------------------------------------------------------------------------------------------------------------------------------------------------------------------------------------------------------------------------------------------------------------------------------------------------------------------------------------+------------+------------------------------------------+\n|2      |2024-09-16 12:03:04|8379095214579684|azuser2109_mml.local@techademy.com|MERGE    |{predicate -> [\"(ID#683L = ID#403L)\"], matchedPredicates -> [{\"actionType\":\"update\"}], statsOnLoad -> false, notMatchedBySourcePredicates -> [], notMatchedPredicates -> [{\"actionType\":\"insert\"}]}|NULL|{3714719545832430}|0911-102451-o8x6anfh|1          |WriteSerializable|false        |{numTargetRowsCopied -> 0, numTargetRowsDeleted -> 0, numTargetFilesAdded -> 2, numTargetBytesAdded -> 1240, numTargetBytesRemoved -> 1772, numTargetDeletionVectorsAdded -> 0, numTargetRowsMatchedUpdated -> 3, executionTimeMs -> 5548, materializeSourceTimeMs -> 443, numTargetRowsInserted -> 0, numTargetRowsMatchedDeleted -> 0, numTargetDeletionVectorsUpdated -> 0, scanTimeMs -> 3875, numTargetRowsUpdated -> 3, numOutputRows -> 3, numTargetDeletionVectorsRemoved -> 0, numTargetRowsNotMatchedBySourceUpdated -> 0, numTargetChangeFilesAdded -> 0, numSourceRows -> 2, numTargetFilesRemoved -> 3, numTargetRowsNotMatchedBySourceDeleted -> 0, rewriteTimeMs -> 1160}|NULL        |Databricks-Runtime/15.4.x-photon-scala2.12|\n|1      |2024-09-16 12:02:53|8379095214579684|azuser2109_mml.local@techademy.com|WRITE    |{mode -> Append, statsOnLoad -> false, partitionBy -> []}                                                                                                                                          |NULL|{3714719545832430}|0911-102451-o8x6anfh|0          |WriteSerializable|true         |{numFiles -> 2, numOutputRows -> 2, numOutputBytes -> 1181}                                                                                                                                                                                                                                                                                                                                                                                                                                                                                                                                                                                                                             |NULL        |Databricks-Runtime/15.4.x-photon-scala2.12|\n|0      |2024-09-16 12:02:47|8379095214579684|azuser2109_mml.local@techademy.com|WRITE    |{mode -> Overwrite, statsOnLoad -> false, partitionBy -> []}                                                                                                                                       |NULL|{3714719545832430}|0911-102451-o8x6anfh|NULL       |WriteSerializable|false        |{numFiles -> 3, numOutputRows -> 3, numOutputBytes -> 1773}                                                                                                                                                                                                                                                                                                                                                                                                                                                                                                                                                                                                                             |NULL        |Databricks-Runtime/15.4.x-photon-scala2.12|\n+-------+-------------------+----------------+----------------------------------+---------+---------------------------------------------------------------------------------------------------------------------------------------------------------------------------------------------------+----+------------------+--------------------+-----------+-----------------+-------------+----------------------------------------------------------------------------------------------------------------------------------------------------------------------------------------------------------------------------------------------------------------------------------------------------------------------------------------------------------------------------------------------------------------------------------------------------------------------------------------------------------------------------------------------------------------------------------------------------------------------------------------------------------------------------------------+------------+------------------------------------------+\n\nQuerying Delta table as of version 0...\n+---+-----+\n|ID |Value|\n+---+-----+\n|1  |100  |\n|2  |200  |\n|3  |300  |\n+---+-----+\n\nVacuuming old files...\nDelta operations completed.\n"
     ]
    }
   ],
   "source": [
    "from pyspark.sql import SparkSession\n",
    "from pyspark.sql.functions import col\n",
    "\n",
    "# Initialize SparkSession\n",
    "spark = SparkSession.builder.appName(\"DeltaOperationsSimpleExample\").getOrCreate()\n",
    "\n",
    "# Define Delta table path\n",
    "delta_table_path = \"/delta/simple_data\"\n",
    "\n",
    "# Define initial sample data\n",
    "initial_data = [\n",
    "    (1, 100),\n",
    "    (2, 200),\n",
    "    (3, 300)\n",
    "]\n",
    "\n",
    "# Define schema\n",
    "schema = [\"ID\", \"Value\"]\n",
    "\n",
    "# Create DataFrame for initial data\n",
    "df_initial = spark.createDataFrame(initial_data, schema=schema)\n",
    "\n",
    "# Write DataFrame to Delta table\n",
    "df_initial.write.format(\"delta\").mode(\"overwrite\").save(delta_table_path)\n",
    "\n",
    "print(\"Initial Delta table created and data written successfully.\")\n",
    "\n",
    "# Define new sample data\n",
    "new_sample_data = [\n",
    "    (2, 250),  # Existing ID with updated Value\n",
    "    (4, 400)   # New ID\n",
    "]\n",
    "\n",
    "# Create DataFrame for new data\n",
    "df_new = spark.createDataFrame(new_sample_data, schema=schema)\n",
    "\n",
    "# Write the new data to Delta table in append mode\n",
    "df_new.write.format(\"delta\").mode(\"append\").save(delta_table_path)\n",
    "\n",
    "print(\"New data appended to Delta table successfully.\")\n",
    "\n",
    "# Create a temporary view for SQL operations\n",
    "df_new.createOrReplaceTempView(\"new_data\")\n",
    "\n",
    "# Perform the merge operation\n",
    "print(\"Merging new data into Delta table...\")\n",
    "\n",
    "spark.sql(f\"\"\"\n",
    "MERGE INTO delta.`{delta_table_path}` AS target\n",
    "USING new_data AS source\n",
    "ON target.ID = source.ID\n",
    "WHEN MATCHED THEN UPDATE SET\n",
    "    target.Value = source.Value\n",
    "WHEN NOT MATCHED THEN INSERT (\n",
    "    ID,\n",
    "    Value\n",
    ") VALUES (\n",
    "    source.ID,\n",
    "    source.Value\n",
    ")\n",
    "\"\"\")\n",
    "\n",
    "print(\"Data merged successfully.\")\n",
    "\n",
    "# Delta operations - History, Time Travel, and Vacuum\n",
    "print(\"Viewing Delta table history...\")\n",
    "history_df = spark.sql(f\"DESCRIBE HISTORY delta.`{delta_table_path}`\")\n",
    "history_df.show(truncate=False)\n",
    "\n",
    "print(\"Querying Delta table as of version 0...\")\n",
    "df_time_travel = spark.read.format(\"delta\").option(\"versionAsOf\", 0).load(delta_table_path)\n",
    "df_time_travel.show(truncate=False)\n",
    "\n",
    "print(\"Vacuuming old files...\")\n",
    "spark.sql(f\"VACUUM delta.`{delta_table_path}` RETAIN 168 HOURS\")\n",
    "\n",
    "print(\"Delta operations completed.\")\n"
   ]
  },
  {
   "cell_type": "markdown",
   "metadata": {
    "application/vnd.databricks.v1+cell": {
     "cellMetadata": {},
     "inputWidgets": {},
     "nuid": "ffef966a-545c-43a7-8295-61648572d950",
     "showTitle": false,
     "title": ""
    }
   },
   "source": [
    "\n"
   ]
  }
 ],
 "metadata": {
  "application/vnd.databricks.v1+notebook": {
   "dashboards": [],
   "environmentMetadata": {
    "base_environment": "",
    "client": "1"
   },
   "language": "python",
   "notebookMetadata": {
    "pythonIndentUnit": 4
   },
   "notebookName": "DataBricksPractice",
   "widgets": {}
  }
 },
 "nbformat": 4,
 "nbformat_minor": 0
}
